{
  "nbformat": 4,
  "nbformat_minor": 0,
  "metadata": {
    "colab": {
      "provenance": [],
      "include_colab_link": true
    },
    "kernelspec": {
      "name": "python3",
      "display_name": "Python 3"
    },
    "language_info": {
      "name": "python"
    }
  },
  "cells": [
    {
      "cell_type": "markdown",
      "metadata": {
        "id": "view-in-github",
        "colab_type": "text"
      },
      "source": [
        "<a href=\"https://colab.research.google.com/github/TUIlmenauAMS/GVT_Lecture_Colab/blob/main/GVT_V6.ipynb\" target=\"_parent\"><img src=\"https://colab.research.google.com/assets/colab-badge.svg\" alt=\"Open In Colab\"/></a>"
      ]
    },
    {
      "cell_type": "markdown",
      "source": [
        "# **Lecture Fundamentals of Video Technology**\n",
        "\n",
        "## Gerald Schuller\n",
        "\n",
        "## gerald.schuller@tu-ilmenau.de"
      ],
      "metadata": {
        "id": "tyyMmIriguSb"
      }
    },
    {
      "cell_type": "markdown",
      "source": [
        "###**Lecture video:**\n",
        "\n",
        "https://youtu.be/1397Sw7RFXg\n"
      ],
      "metadata": {
        "id": "4Y2nwVNGMIaV"
      }
    },
    {
      "cell_type": "code",
      "source": [
        "from IPython.display import YouTubeVideo\n",
        "YouTubeVideo('1397Sw7RFXg')"
      ],
      "metadata": {
        "colab": {
          "base_uri": "https://localhost:8080/",
          "height": 321
        },
        "id": "2sS6pOmTMQbG",
        "outputId": "edb12af4-bb54-4354-cbb6-63748ab1e2cd"
      },
      "execution_count": null,
      "outputs": [
        {
          "output_type": "execute_result",
          "data": {
            "text/plain": [
              "<IPython.lib.display.YouTubeVideo at 0x7ff0d4051d30>"
            ],
            "text/html": [
              "\n",
              "        <iframe\n",
              "            width=\"400\"\n",
              "            height=\"300\"\n",
              "            src=\"https://www.youtube.com/embed/1397Sw7RFXg\"\n",
              "            frameborder=\"0\"\n",
              "            allowfullscreen\n",
              "            \n",
              "        ></iframe>\n",
              "        "
            ],
            "image/jpeg": "[encoded data removed]"
          },
          "metadata": {},
          "execution_count": 1
        }
      ]
    },
    {
      "cell_type": "markdown",
      "source": [
        "#**The “Discrete Cosine Transform” (DCT)**\n",
        "We saw: The DFT produces a complex-valued spectrum, which is symmetric at its center (the Nyquist frequency), when we have real-valued signals.\n",
        "\n",
        "Due to this symmetry we could actually **focus on** the spectral-coefficients on the **first half of our spectrum**, and so we would have a twice as high frequency resolution.\n",
        "\n",
        "The complex-valued computation is more complex in an implementation, and for real-valued signals is mostly not necessary. Here, a **real-valued compuation** would be enough.\n",
        "\n",
        "Both points are addressed by the DCT. It can be seen as a **real-valued version** of DFT , which calculates only the first half of the spectrum, therefore with **double as high spectral coefficient-density**.\n",
        "\n",
        "There is a range of different DCT types. The common type used in **Video coding is so called “DCT Type 2”**."
      ],
      "metadata": {
        "id": "ScmXlR8hgQqV"
      }
    },
    {
      "cell_type": "markdown",
      "source": [
        "For our signal $x(n)$ with length N and spectral-coefficients $y(k)$ it is defined as :\n",
        "\n",
        "\n"
      ],
      "metadata": {
        "id": "U-Sl8LQUgoY2"
      }
    },
    {
      "cell_type": "markdown",
      "source": [
        " $$y(k) =\n",
        "  \\begin{cases}\n",
        "   \\sqrt{\\frac{2}{N}}\\sum_{n=0}^{N-1}x(n)cos(\\frac{π}{N}⋅k⋅(n+0.5)) & \\text{for } k =1,...N-1 \\\\\n",
        " ^ \\frac{1}{\\sqrt{N}}   \\sum_{n=0}^{N-1}x(n)    & \\text{for } k = 0\n",
        "  \\end{cases}$$\n"
      ],
      "metadata": {
        "id": "3t_F2M5Ujgpu"
      }
    },
    {
      "cell_type": "markdown",
      "source": [
        "The factors with the root are needed to obtain a so called **“orthogonal” Transformation** (where the inverse transform matrix is the transpose matrix).\n",
        "\n",
        "Observe that the DCT coefficients y(k) can also be **negative** for k>0 even for all positve inputs x (because the cosine can become negative)!\n",
        "\n",
        "Here the **energy of signal** (the sum of squares of sample values $x(n)$ )  is **equal to the energy of spectral coefficients** (the sum of squares of $y(k)$ ). This is the so called “**Parseval Theorem**”. This concept originally stems from  the Fourier Transform and DFT, which have this property with proper orthogonality factors too.\n",
        "\n",
        "Note that the DCT also can be written as  matrix-multiplication with a “**Transform Matrix**”,  $T$ , with:"
      ],
      "metadata": {
        "id": "bQcWvKzXk0LM"
      }
    },
    {
      "cell_type": "markdown",
      "source": [
        "$$x:=[x(0),...,x(N-1)]$$\n",
        "$$y:=[y(0),...,y(n-1)]$$\n",
        "\n",
        "$$\\begin{equation*}\n",
        "T = \\sqrt{\\frac{2}{N}}\n",
        "\\begin{bmatrix}\n",
        "\\frac{1}{\\sqrt{2}} & cos(\\frac{π}{N}⋅1⋅(0+0.5) & ,..., & cos(\\frac{π}{N}⋅(N-1)⋅(0+0.5) \\\\\n",
        ". & . &  & . \\\\\n",
        ". &  & . & .\\\\\n",
        ". &  &  & .\\\\\n",
        "\\frac{1}{\\sqrt{2}} & cos(\\frac{π}{N}⋅1⋅(N-1+0.5) & ,..., & cos(\\frac{π}{N}⋅(N-1)⋅(N-1+0.5)\n",
        "\\end{bmatrix}\n",
        "\\end{equation*}$$"
      ],
      "metadata": {
        "id": "fyyrLxEzhvJy"
      }
    },
    {
      "cell_type": "markdown",
      "source": [
        "the DCT is simply a matrix-multiplication:\n",
        "\n",
        "$$y=x⋅T$$\n",
        "\n",
        "(The same can also be done for the DFT.)"
      ],
      "metadata": {
        "id": "-X24j_jkoJ6N"
      }
    },
    {
      "cell_type": "markdown",
      "source": [
        "The **inverse DCT** corresponds to a multiplication of vector **$y$** with **inverse Transform-Matrix**, which in this case, due to the **orthogonality**, is simply the **transposed matrix** :\n",
        "\n",
        "$$x=y⋅T^{-1}=y⋅T^{T}$$\n",
        "\n",
        "This corresponds to formula:\n",
        "\n",
        "$$x(n)=\\frac{y(0)}{\\sqrt{N}}+\\sqrt{\\frac{2}{N}}\\sum_{k=1}^{N-1}y(k)cos(\\frac{π}{N}⋅k⋅(n+0.5))$$\n",
        "\n",
        "for $n=0,...,N-1$"
      ],
      "metadata": {
        "id": "z9kbCDaYoQpe"
      }
    },
    {
      "cell_type": "markdown",
      "source": [
        "#**Python DCT Functions:**\n",
        "In Python, the function “dct” is in the Library “scipy.fftpack”. Accordingly the function for an  orthogonal DCT of type 2 is :\n"
      ],
      "metadata": {
        "id": "3auN1whvpEsj"
      }
    },
    {
      "cell_type": "code",
      "source": [
        "import scipy\n",
        "import numpy as np\n",
        "\n",
        "CHUNK = 2048 #Blocksize\n",
        "WIDTH = 2 #2 bytes per sample\n",
        "CHANNELS = 1 #2\n",
        "RATE = 32000  #Sampling Rate in Hz\n",
        "RECORD_SECONDS = 70\n",
        "\n",
        "dctlen=int(CHUNK/2);\n",
        "x = np.arange(0, dctlen)\n",
        "print('x=',x)\n",
        "\n",
        "y=scipy.fftpack.dct(x,type=2,axis=0,norm='ortho')\n",
        "print('y=', y)\n"
      ],
      "metadata": {
        "colab": {
          "base_uri": "https://localhost:8080/"
        },
        "id": "7J0qsk18pbZj",
        "outputId": "7dde8909-27e2-464b-ca64-6e92a2fca072"
      },
      "execution_count": 4,
      "outputs": [
        {
          "output_type": "stream",
          "name": "stdout",
          "text": [
            "x= [   0    1    2 ... 1021 1022 1023]\n",
            "y= [ 1.63680000e+04 -9.39063613e+03  0.00000000e+00 ... -1.01691315e-04\n",
            "  0.00000000e+00 -3.38965719e-05]\n"
          ]
        }
      ]
    },
    {
      "cell_type": "markdown",
      "source": [
        "The option “type=2” is the default setting too, therefore can be omitted. “axis” specifies in which dimension or direction the DCT should be used . “1” is along the rows.\n",
        "\n",
        "The orthogonal inverse DCT of type 2 is “idct”:\n",
        "\n"
      ],
      "metadata": {
        "id": "Fy4_dQdEptwm"
      }
    },
    {
      "cell_type": "code",
      "source": [
        "x=scipy.fftpack.idct(y,type=2,axis=0,norm='ortho')\n",
        "print('x=',x)\n",
        "print('np.round(x).astype(int)=', np.round(x).astype(int))"
      ],
      "metadata": {
        "id": "yAROdOGHpweB",
        "colab": {
          "base_uri": "https://localhost:8080/"
        },
        "outputId": "3d7a7bee-bba6-40a4-de1a-81f7db8a3442"
      },
      "execution_count": 11,
      "outputs": [
        {
          "output_type": "stream",
          "name": "stdout",
          "text": [
            "x= [8.03887339e-14 1.00000000e+00 2.00000000e+00 ... 1.02100000e+03\n",
            " 1.02200000e+03 1.02300000e+03]\n",
            "np.round(x).astype(int)= [   0    1    2 ... 1021 1022 1023]\n"
          ]
        }
      ]
    },
    {
      "cell_type": "markdown",
      "source": [
        "These functions are only 1-dimensional. To obtain a **2-dimensional DCT** , we must first replace all rows by their DCT , and then the columns by their respective DCT. This will be achieved simply with the “axis” argument, with x 2-dimensional now,"
      ],
      "metadata": {
        "id": "_O9nSWE1pyr8"
      }
    },
    {
      "cell_type": "code",
      "source": [
        "x=np.random.random((8,8))\n",
        "print('x=',x)\n",
        "y=scipy.fftpack.dct(x,type=2,axis=1,norm='ortho')\n",
        "y=scipy.fftpack.dct(y,type=2,axis=0,norm='ortho')\n",
        "print('y=',y)"
      ],
      "metadata": {
        "id": "RxEEaBUNpWvI",
        "outputId": "63d01a44-fa28-4a75-bcd3-c2714c78f07b",
        "colab": {
          "base_uri": "https://localhost:8080/"
        }
      },
      "execution_count": 15,
      "outputs": [
        {
          "output_type": "stream",
          "name": "stdout",
          "text": [
            "x= [[0.20991862 0.92050401 0.87816912 0.28865311 0.63684681 0.64263187\n",
            "  0.37130266 0.28662733]\n",
            " [0.95842844 0.10647985 0.45349497 0.19771215 0.62725767 0.61607582\n",
            "  0.41245658 0.73667421]\n",
            " [0.40891782 0.0370344  0.08859948 0.50368486 0.46558167 0.28989071\n",
            "  0.03685517 0.77706862]\n",
            " [0.29188819 0.68036044 0.19537949 0.74850255 0.96801343 0.73132159\n",
            "  0.63180775 0.23108055]\n",
            " [0.93609527 0.68406923 0.56739059 0.28521444 0.09789109 0.33104469\n",
            "  0.98370823 0.26186871]\n",
            " [0.84170914 0.58087618 0.824283   0.09334388 0.12538255 0.92649381\n",
            "  0.1180689  0.23346357]\n",
            " [0.28201995 0.49868769 0.04924951 0.43538457 0.19590447 0.38403634\n",
            "  0.46798153 0.19600445]\n",
            " [0.04706091 0.92303303 0.89303875 0.3241359  0.86242686 0.03250032\n",
            "  0.43714245 0.67472378]]\n",
            "y= [[ 3.75293171  0.20467345  0.0836417   0.16057908 -0.19556032 -0.27388604\n",
            "   0.03717735  0.11505345]\n",
            " [ 0.14196191 -0.20060431 -0.08388439  0.24061083  0.31873188 -0.01967595\n",
            "   0.29320742  0.0162555 ]\n",
            " [-0.01412618 -0.00481121 -0.1762625  -0.49314768 -0.12159489 -0.52358936\n",
            "   0.02560471  0.27513929]\n",
            " [ 0.11525266  0.52089434  0.28113412  0.28586276 -0.78352849  0.23880704\n",
            "   0.34913984 -0.08313777]\n",
            " [ 0.51065623  0.12951459 -0.31519844 -0.30138006 -0.49255384 -0.20707686\n",
            "  -0.6537135   0.2857631 ]\n",
            " [-0.26381688 -0.15422078 -0.59191105  0.0908161  -0.0679337  -0.17827826\n",
            "  -0.38618413 -0.45613749]\n",
            " [-0.05686189  0.18564868 -0.12261258 -0.33940539 -0.0683281  -0.36862175\n",
            "   0.38229702 -0.00902698]\n",
            " [-0.38004527 -0.04739436  0.34309543 -0.2438026   0.09429534  0.30676619\n",
            "  -0.25582104 -0.05280187]]\n"
          ]
        }
      ]
    },
    {
      "cell_type": "markdown",
      "source": [
        "#**Python Examples:**\n",
        "##**Audio Example:**\n",
        "At first a 1-dimensional example for the **Audio-Signal of microphone**. It reads blocks of length “dctlen”, computes the DCT through\n",
        "\n"
      ],
      "metadata": {
        "id": "CQK5VprSWbvX"
      }
    },
    {
      "cell_type": "code",
      "source": [
        "y=scipy.fftpack.dct(samples[0:dctlen])"
      ],
      "metadata": {
        "colab": {
          "base_uri": "https://localhost:8080/",
          "height": 198
        },
        "id": "lGhq_9q0Wm0U",
        "outputId": "d8c871ea-9402-42d2-c580-132c9d4de125"
      },
      "execution_count": null,
      "outputs": [
        {
          "output_type": "error",
          "ename": "NameError",
          "evalue": "ignored",
          "traceback": [
            "\u001b[0;31m---------------------------------------------------------------------------\u001b[0m",
            "\u001b[0;31mNameError\u001b[0m                                 Traceback (most recent call last)",
            "\u001b[0;32m<ipython-input-13-01176e863526>\u001b[0m in \u001b[0;36m<module>\u001b[0;34m\u001b[0m\n\u001b[0;32m----> 1\u001b[0;31m \u001b[0my\u001b[0m\u001b[0;34m=\u001b[0m\u001b[0mscipy\u001b[0m\u001b[0;34m.\u001b[0m\u001b[0mfftpack\u001b[0m\u001b[0;34m.\u001b[0m\u001b[0mdct\u001b[0m\u001b[0;34m(\u001b[0m\u001b[0msamples\u001b[0m\u001b[0;34m[\u001b[0m\u001b[0;36m0\u001b[0m\u001b[0;34m:\u001b[0m\u001b[0mdctlen\u001b[0m\u001b[0;34m]\u001b[0m\u001b[0;34m)\u001b[0m\u001b[0;34m\u001b[0m\u001b[0;34m\u001b[0m\u001b[0m\n\u001b[0m",
            "\u001b[0;31mNameError\u001b[0m: name 'samples' is not defined"
          ]
        }
      ]
    },
    {
      "cell_type": "markdown",
      "source": [
        "\n",
        "\n",
        "and converts its magnitude in dB, with:\n"
      ],
      "metadata": {
        "id": "jPT182y5Wk_I"
      }
    },
    {
      "cell_type": "code",
      "source": [
        "20*np.log10(np.abs(y)))"
      ],
      "metadata": {
        "id": "ljb0NZXVWxmV"
      },
      "execution_count": null,
      "outputs": []
    },
    {
      "cell_type": "markdown",
      "source": [
        "These dB values for every DCT coefficient respective every subband are displayed then as live plot :\n",
        "\n",
        "*python pyrecdctanimation.py*"
      ],
      "metadata": {
        "id": "Gsgnx85vW0FI"
      }
    },
    {
      "cell_type": "markdown",
      "source": [
        "**Attention**: In the horizontal axis we see 1024 DCT coefficients resp. subbands. These are now **no longer symmetric** around the center but the Nyquist frequency is now on right end. Thus we use our DCT **coefficients optimal** (nothing is double).\n",
        "\n",
        "**Note**: With whistling, like with the FFT, we obtain peaks in  spectrum, hence the principle of spectral decomposition  remains the same."
      ],
      "metadata": {
        "id": "lMtPhswtW6aY"
      }
    },
    {
      "cell_type": "markdown",
      "source": [
        "##**Video example:**\n",
        "We apply the DCT to a whole frame (the “Green” component), first to the rows , then to the columns, then we compute the magnitude and display it, with:"
      ],
      "metadata": {
        "id": "-3cJ31HpXFpp"
      }
    },
    {
      "cell_type": "code",
      "source": [
        "#@title Videostream (please run this first)\n",
        "from IPython.display import display, Javascript, Image\n",
        "from google.colab.output import eval_js\n",
        "import html\n",
        "from base64 import b64decode, b64encode\n",
        "import cv2\n",
        "import numpy as np\n",
        "import PIL\n",
        "import io\n",
        "\n",
        "def jsob_to_image(js_object):\n",
        "  # decode base64 image\n",
        "  image_bytes = b64decode(js_object.split(',')[1])\n",
        "  # convert bytes to numpy array\n",
        "  img_array = np.frombuffer(image_bytes, dtype=np.uint8)\n",
        "  # convert numpy array into OpenCV BGR\n",
        "  frame = cv2.imdecode(img_array, flags=1)\n",
        "\n",
        "  return frame\n",
        "\n",
        "#JavaScript code to get the stream\n",
        "def video_stream():\n",
        "  js = Javascript('''\n",
        "    var video;\n",
        "    var div = null;\n",
        "    var stream;\n",
        "    var captureCanvas;\n",
        "    var imgElement;\n",
        "    var labelElement;\n",
        "\n",
        "    var pendingResolve = null;\n",
        "    var shutdown = false;\n",
        "\n",
        "    function removeDom() {\n",
        "       stream.getVideoTracks()[0].stop();\n",
        "       video.remove();\n",
        "       div.remove();\n",
        "       video = null;\n",
        "       div = null;\n",
        "       stream = null;\n",
        "       imgElement = null;\n",
        "       captureCanvas = null;\n",
        "       labelElement = null;\n",
        "    }\n",
        "\n",
        "    function onAnimationFrame() {\n",
        "      if (!shutdown) {\n",
        "        window.requestAnimationFrame(onAnimationFrame);\n",
        "      }\n",
        "      if (pendingResolve) {\n",
        "        var result = \"\";\n",
        "        if (!shutdown) {\n",
        "          captureCanvas.getContext('2d').drawImage(video, 0, 0, 640, 480);\n",
        "          result = captureCanvas.toDataURL('image/jpeg', 0.8)\n",
        "        }\n",
        "        var lp = pendingResolve;\n",
        "        pendingResolve = null;\n",
        "        lp(result);\n",
        "      }\n",
        "    }\n",
        "\n",
        "    async function createDom() {\n",
        "      if (div !== null) {\n",
        "        return stream;\n",
        "      }\n",
        "      div = document.createElement('div');\n",
        "      div.style.border = '2px solid black';\n",
        "      div.style.padding = '3px';\n",
        "      div.style.width = '100%';\n",
        "      div.style.maxWidth = '600px';\n",
        "      document.body.appendChild(div);\n",
        "\n",
        "\n",
        "      video = document.createElement('video');\n",
        "      video.style.display = 'block';\n",
        "      video.width = div.clientWidth - 6;\n",
        "      video.setAttribute('playsinline', '');\n",
        "      video.onclick = () => { shutdown = true; };\n",
        "      stream = await navigator.mediaDevices.getUserMedia(\n",
        "          {video: { facingMode: \"environment\"}});\n",
        "      div.appendChild(video);\n",
        "      imgElement = document.createElement('img');\n",
        "      imgElement.style.position = 'absolute';\n",
        "      imgElement.style.zIndex = 1;\n",
        "      imgElement.onclick = () => { shutdown = true; };\n",
        "      div.appendChild(imgElement);\n",
        "\n",
        "      const instruction = document.createElement('div');\n",
        "      instruction.innerHTML =\n",
        "          '<span style=\"blue: red; font-weight: bold;\">' +\n",
        "          'click here to stop the video</span>';\n",
        "      div.appendChild(instruction);\n",
        "      instruction.onclick = () => { shutdown = true; };\n",
        "\n",
        "      video.srcObject = stream;\n",
        "      await video.play();\n",
        "      captureCanvas = document.createElement('canvas');\n",
        "      captureCanvas.width = 640;\n",
        "      captureCanvas.height = 480;\n",
        "      window.requestAnimationFrame(onAnimationFrame);\n",
        "\n",
        "      return stream;\n",
        "    }\n",
        "    async function stream_frame() {\n",
        "      if (shutdown) {\n",
        "        removeDom();\n",
        "        shutdown = false;\n",
        "        return '';\n",
        "      }\n",
        "      var preCreate = Date.now();\n",
        "      stream = await createDom();\n",
        "\n",
        "      var preShow = Date.now();\n",
        "\n",
        "\n",
        "\n",
        "      var preCapture = Date.now();\n",
        "      var result = await new Promise(function(resolve, reject) {\n",
        "        pendingResolve = resolve;\n",
        "      });\n",
        "      shutdown = false;\n",
        "\n",
        "      return {'create': preShow - preCreate,\n",
        "              'show': preCapture - preShow,\n",
        "              'capture': Date.now() - preCapture,\n",
        "              'img': result};\n",
        "    }\n",
        "    ''')\n",
        "\n",
        "  display(js)\n",
        "\n",
        "def video_frame():\n",
        "  data = eval_js('stream_frame()')\n",
        "  return data\n"
      ],
      "metadata": {
        "cellView": "form",
        "id": "OxMnUE2ULOZ4"
      },
      "execution_count": 16,
      "outputs": []
    },
    {
      "cell_type": "code",
      "source": [
        "import cv2\n",
        "import numpy as np\n",
        "import scipy.fftpack as sft\n",
        "\n",
        "# Get the webcam stream and forward it to python\n",
        "video_stream()\n",
        "\n",
        "while True:\n",
        "    frame_js = video_frame()\n",
        "    if not frame_js:\n",
        "        break\n",
        "    img = jsob_to_image(frame_js[\"img\"])\n",
        "\n",
        "frame=sft.dct(img[:,:,1]/255.0,axis=1,norm='ortho')\n",
        "frame=(sft.dct(frame,axis=0,norm='ortho'))\n",
        "print('frame=', frame)"
      ],
      "metadata": {
        "colab": {
          "base_uri": "https://localhost:8080/",
          "height": 243
        },
        "id": "YZ-02OP6XKMR",
        "outputId": "7476cf75-4c0c-4e50-ceb0-d7e700c0a798"
      },
      "execution_count": 19,
      "outputs": [
        {
          "output_type": "display_data",
          "data": {
            "text/plain": [
              "<IPython.core.display.Javascript object>"
            ],
            "application/javascript": [
              "\n",
              "    var video;\n",
              "    var div = null;\n",
              "    var stream;\n",
              "    var captureCanvas;\n",
              "    var imgElement;\n",
              "    var labelElement;\n",
              "    \n",
              "    var pendingResolve = null;\n",
              "    var shutdown = false;\n",
              "    \n",
              "    function removeDom() {\n",
              "       stream.getVideoTracks()[0].stop();\n",
              "       video.remove();\n",
              "       div.remove();\n",
              "       video = null;\n",
              "       div = null;\n",
              "       stream = null;\n",
              "       imgElement = null;\n",
              "       captureCanvas = null;\n",
              "       labelElement = null;\n",
              "    }\n",
              "    \n",
              "    function onAnimationFrame() {\n",
              "      if (!shutdown) {\n",
              "        window.requestAnimationFrame(onAnimationFrame);\n",
              "      }\n",
              "      if (pendingResolve) {\n",
              "        var result = \"\";\n",
              "        if (!shutdown) {\n",
              "          captureCanvas.getContext('2d').drawImage(video, 0, 0, 640, 480);\n",
              "          result = captureCanvas.toDataURL('image/jpeg', 0.8)\n",
              "        }\n",
              "        var lp = pendingResolve;\n",
              "        pendingResolve = null;\n",
              "        lp(result);\n",
              "      }\n",
              "    }\n",
              "    \n",
              "    async function createDom() {\n",
              "      if (div !== null) {\n",
              "        return stream;\n",
              "      }\n",
              "      div = document.createElement('div');\n",
              "      div.style.border = '2px solid black';\n",
              "      div.style.padding = '3px';\n",
              "      div.style.width = '100%';\n",
              "      div.style.maxWidth = '600px';\n",
              "      document.body.appendChild(div);\n",
              "      \n",
              "           \n",
              "      video = document.createElement('video');\n",
              "      video.style.display = 'block';\n",
              "      video.width = div.clientWidth - 6;\n",
              "      video.setAttribute('playsinline', '');\n",
              "      video.onclick = () => { shutdown = true; };\n",
              "      stream = await navigator.mediaDevices.getUserMedia(\n",
              "          {video: { facingMode: \"environment\"}});\n",
              "      div.appendChild(video);\n",
              "      imgElement = document.createElement('img');\n",
              "      imgElement.style.position = 'absolute';\n",
              "      imgElement.style.zIndex = 1;\n",
              "      imgElement.onclick = () => { shutdown = true; };\n",
              "      div.appendChild(imgElement);\n",
              "      \n",
              "      const instruction = document.createElement('div');\n",
              "      instruction.innerHTML = \n",
              "          '<span style=\"blue: red; font-weight: bold;\">' +\n",
              "          'click here to stop the video</span>';\n",
              "      div.appendChild(instruction);\n",
              "      instruction.onclick = () => { shutdown = true; };\n",
              "      \n",
              "      video.srcObject = stream;\n",
              "      await video.play();\n",
              "      captureCanvas = document.createElement('canvas');\n",
              "      captureCanvas.width = 640; \n",
              "      captureCanvas.height = 480; \n",
              "      window.requestAnimationFrame(onAnimationFrame);\n",
              "      \n",
              "      return stream;\n",
              "    }\n",
              "    async function stream_frame() {\n",
              "      if (shutdown) {\n",
              "        removeDom();\n",
              "        shutdown = false;\n",
              "        return '';\n",
              "      }\n",
              "      var preCreate = Date.now();\n",
              "      stream = await createDom();\n",
              "      \n",
              "      var preShow = Date.now();\n",
              "  \n",
              "            \n",
              "      \n",
              "      var preCapture = Date.now();\n",
              "      var result = await new Promise(function(resolve, reject) {\n",
              "        pendingResolve = resolve;\n",
              "      });\n",
              "      shutdown = false;\n",
              "      \n",
              "      return {'create': preShow - preCreate, \n",
              "              'show': preCapture - preShow, \n",
              "              'capture': Date.now() - preCapture,\n",
              "              'img': result};\n",
              "    }\n",
              "    "
            ]
          },
          "metadata": {}
        },
        {
          "output_type": "stream",
          "name": "stdout",
          "text": [
            "frame= [[ 2.73169028e+02  1.96783349e+01  6.90291380e+00 ... -1.54324034e-02\n",
            "   2.18683199e-02 -4.56141299e-02]\n",
            " [ 5.83783124e+01 -6.74580528e+00  7.24297104e+00 ... -6.06165215e-03\n",
            "  -7.87343586e-03  3.12185207e-02]\n",
            " [ 2.84837096e+01 -1.25956456e+01 -8.20991688e+00 ...  1.06648744e-02\n",
            "  -4.22462501e-03 -3.18081712e-03]\n",
            " ...\n",
            " [ 4.51141418e-02 -1.02254155e-02 -1.02535190e-01 ...  1.23516544e-04\n",
            "   2.26234194e-03 -6.45041966e-04]\n",
            " [ 2.31103440e-02 -1.67924465e-02  5.51537266e-02 ...  7.29455749e-03\n",
            "   7.69727246e-04  2.03196676e-03]\n",
            " [ 1.80964500e-02 -1.04867371e-02 -4.95944877e-02 ... -2.50321952e-04\n",
            "   2.65576254e-03 -8.54842169e-05]]\n"
          ]
        }
      ]
    },
    {
      "cell_type": "markdown",
      "source": [
        "Implemented in:\n",
        "\n",
        "*python videorecdctdisp.py*\n",
        "\n"
      ],
      "metadata": {
        "id": "FYvofou3XN00"
      }
    },
    {
      "cell_type": "markdown",
      "source": [
        "**Observe**: Like for the case of the DFT, the **brightness** in the display indicates the **magnitude** of a frequency component, its **position** in the display indicates its **frequency**.\n",
        "\n",
        "**Observe**: Similar to the Audio example we observe **no** longer the **symmetry**. The whole frame is used and no duplication is there. By holding a fine pattern in front of our camera again it shows the typical point-chain pattern, like with the FFT. The **basic function remains therefore the same**."
      ],
      "metadata": {
        "id": "_VXAHveqXRPS"
      }
    },
    {
      "cell_type": "markdown",
      "source": [
        "#**Example of DCT low pass-filter:**\n",
        "We can now **implement** a low pass filter in the DCT domain, similar to the FFT, by the use of an **appropriate mask**. We just have to consider that there is no longer the symmetry in the spectrum. Thus the mask design becomes even simpler. We now use vectors, which at the beginning consist of ones in the pass band, and then zeros in the stop band.\n",
        "\n",
        "##**In Python:**"
      ],
      "metadata": {
        "id": "s0yzhsGxXkm_"
      }
    },
    {
      "cell_type": "code",
      "source": [
        "import numpy as np\n",
        "import matplotlib.pyplot as plt\n",
        "#import cv2\n",
        "r=480\n",
        "c=640\n",
        "#For rows:\n",
        "Mr=np.ones((r,1))\n",
        "Mr[int(r/4.0):r,0]=np.zeros(int(3.0/4.0*r))\n",
        "#For columns:\n",
        "Mc=np.ones((1,c))\n",
        "Mc[0,int(c/4.0):c]=np.zeros(int(3.0/4.0*c));\n",
        "#Together:\n",
        "M=np.dot(Mr,Mc)\n",
        "plt.imshow(M)\n",
        "plt.title(\"Low-Pass Mask for the 2D-DCT\")\n",
        "plt.show()"
      ],
      "metadata": {
        "colab": {
          "base_uri": "https://localhost:8080/",
          "height": 452
        },
        "id": "SDcv47eDXxuP",
        "outputId": "7a80b429-4735-4ce4-e586-0c3762d06b8b"
      },
      "execution_count": 20,
      "outputs": [
        {
          "output_type": "display_data",
          "data": {
            "text/plain": [
              "<Figure size 640x480 with 1 Axes>"
            ],
            "image/png": "[encoded data removed]"
          },
          "metadata": {}
        }
      ]
    },
    {
      "cell_type": "markdown",
      "source": [
        "**We see**: We only need to define in the upper left edge of our pass band , no longer in all edges .Due to the fact that we practically “see” only the upper left quarter of our DFT spectrum, the band pass appears in both dimensions, twice as big.\n",
        "\n",
        "Implemention with:\n",
        "\n",
        "*python videorecdct0idctdisp.py*\n",
        "\n",
        "(Comparison with the FFT:\n",
        "*python videorecfft0ifftdisp.py*)"
      ],
      "metadata": {
        "id": "iPHC5koqXr8L"
      }
    },
    {
      "cell_type": "markdown",
      "source": [
        "**Observe**: We see in fact a low pass filtered video, smoother and more blurred , with “**ringing artefacts**”, therefore **lines along edges**, completely similar to the FFT."
      ],
      "metadata": {
        "id": "mYkh2QsWYMNC"
      }
    },
    {
      "cell_type": "markdown",
      "source": [
        "#**Example: Block by Block DCT**\n",
        "The ringing artefacts occur, because all zero-set DCT coefficients affect the **whole image** through the size of the transform. In this way, we can no longer process **parts of of frames independent from other parts**. This becomes more important in video coding, for the so called “motion compensation”. Therefore in the MPEG video coders, and also in the JPEG image coders, a DCT of size of **8 pixels x 8 pixels** is used. There the image is first divided into a “Mosaic” of **blocks of size 8 pixels x 8 pixels**, and then  the 2-dimensional DCT is applied separately to each of these blocks.\n",
        "\n",
        "We could achieve this block-wise application of the DCT with use of  a “for” loop, but this would be very slow in Python. To implement this **block-wise processing**, we instead apply a trick: We reshape our frames to a **width of only 8 pixels** (and corresponding larger height), where we **wrap** every line **after every 8 pixels**. We apply the DCT to every such row. Afterwards we return it again to the original shape.\n",
        "\n",
        "In Python there is a function for that:"
      ],
      "metadata": {
        "id": "ivGuQIIeYUGx"
      }
    },
    {
      "cell_type": "code",
      "source": [
        "np.reshape(Matrix, (newshape))"
      ],
      "metadata": {
        "colab": {
          "base_uri": "https://localhost:8080/",
          "height": 130
        },
        "id": "YpmRnT9MYsQF",
        "outputId": "299d76db-d03c-45d3-f7dc-1bede1764db2"
      },
      "execution_count": null,
      "outputs": [
        {
          "output_type": "error",
          "ename": "SyntaxError",
          "evalue": "ignored",
          "traceback": [
            "\u001b[0;36m  File \u001b[0;32m\"<ipython-input-4-c8812df1dbef>\"\u001b[0;36m, line \u001b[0;32m1\u001b[0m\n\u001b[0;31m    np.reshape(Matrix, (new shape))\u001b[0m\n\u001b[0m                            ^\u001b[0m\n\u001b[0;31mSyntaxError\u001b[0m\u001b[0;31m:\u001b[0m invalid syntax\n"
          ]
        }
      ]
    },
    {
      "cell_type": "markdown",
      "source": [
        "###**Python Example:**\n",
        "Example for a block size of 2x2 pixels:"
      ],
      "metadata": {
        "id": "hqqVH0C3YwAS"
      }
    },
    {
      "cell_type": "code",
      "source": [
        "import scipy.fftpack as sft\n",
        "F=np.arange(16)*1.0\n",
        "F=np.reshape(F,(-1,4))\n",
        "#Original Matrix:\n",
        "F"
      ],
      "metadata": {
        "colab": {
          "base_uri": "https://localhost:8080/"
        },
        "id": "fYxJdQZMY0FX",
        "outputId": "69444fa2-a40e-462c-f45c-7d8558fef104"
      },
      "execution_count": 21,
      "outputs": [
        {
          "output_type": "execute_result",
          "data": {
            "text/plain": [
              "array([[ 0.,  1.,  2.,  3.],\n",
              "       [ 4.,  5.,  6.,  7.],\n",
              "       [ 8.,  9., 10., 11.],\n",
              "       [12., 13., 14., 15.]])"
            ]
          },
          "metadata": {},
          "execution_count": 21
        }
      ]
    },
    {
      "cell_type": "code",
      "source": [
        "#Reshape the matrix in rows of width 2:\n",
        "F=np.reshape(F,(-1,2))\n",
        "#The “-1” means: as many rows as necessary.\n",
        "F"
      ],
      "metadata": {
        "colab": {
          "base_uri": "https://localhost:8080/"
        },
        "id": "DiILEGKBY3-k",
        "outputId": "7127d07c-93d7-4617-88a4-07a4f15fe374"
      },
      "execution_count": 22,
      "outputs": [
        {
          "output_type": "execute_result",
          "data": {
            "text/plain": [
              "array([[ 0.,  1.],\n",
              "       [ 2.,  3.],\n",
              "       [ 4.,  5.],\n",
              "       [ 6.,  7.],\n",
              "       [ 8.,  9.],\n",
              "       [10., 11.],\n",
              "       [12., 13.],\n",
              "       [14., 15.]])"
            ]
          },
          "metadata": {},
          "execution_count": 22
        }
      ]
    },
    {
      "cell_type": "markdown",
      "source": [
        "we can now apply the **DCT** to this matrix with the argument “axis=1” (for the rows). The function processes **all these rows** automatically:"
      ],
      "metadata": {
        "id": "6k_GYNkXY7ia"
      }
    },
    {
      "cell_type": "code",
      "source": [
        "Y=sft.dct(F,axis=1,norm='ortho')\n",
        "Y"
      ],
      "metadata": {
        "colab": {
          "base_uri": "https://localhost:8080/"
        },
        "id": "usDLeIKtY__6",
        "outputId": "87dde2c8-cd4d-4894-81f2-524c3fba06e8"
      },
      "execution_count": 23,
      "outputs": [
        {
          "output_type": "execute_result",
          "data": {
            "text/plain": [
              "array([[ 0.70710678, -0.70710678],\n",
              "       [ 3.53553391, -0.70710678],\n",
              "       [ 6.36396103, -0.70710678],\n",
              "       [ 9.19238816, -0.70710678],\n",
              "       [12.02081528, -0.70710678],\n",
              "       [14.8492424 , -0.70710678],\n",
              "       [17.67766953, -0.70710678],\n",
              "       [20.50609665, -0.70710678]])"
            ]
          },
          "metadata": {},
          "execution_count": 23
        }
      ]
    },
    {
      "cell_type": "markdown",
      "source": [
        "Y now contains the DCT coefficients of each row.\n",
        "\n",
        "Following this we can apply our **filter-mask** for the rows. We multiply every row with the corresponding value of the row-mask. We can implement it through **matrix multiplication**, such that we multiply a diagonal matrix from right hand side, which contains the row-mask on its diagonal,"
      ],
      "metadata": {
        "id": "iQV6gjNNZCKx"
      }
    },
    {
      "cell_type": "code",
      "source": [
        "Mr=np.array([1,0])\n",
        "Y=np.dot(Y,np.diag(Mr))\n",
        "Y"
      ],
      "metadata": {
        "colab": {
          "base_uri": "https://localhost:8080/"
        },
        "id": "vtVUufVBZNuC",
        "outputId": "196cd0d2-addc-4ebc-e01b-5b1bc1bd1fbc"
      },
      "execution_count": 24,
      "outputs": [
        {
          "output_type": "execute_result",
          "data": {
            "text/plain": [
              "array([[ 0.70710678,  0.        ],\n",
              "       [ 3.53553391,  0.        ],\n",
              "       [ 6.36396103,  0.        ],\n",
              "       [ 9.19238816,  0.        ],\n",
              "       [12.02081528,  0.        ],\n",
              "       [14.8492424 ,  0.        ],\n",
              "       [17.67766953,  0.        ],\n",
              "       [20.50609665,  0.        ]])"
            ]
          },
          "metadata": {},
          "execution_count": 24
        }
      ]
    },
    {
      "cell_type": "markdown",
      "source": [
        "Following this we reshape the matrix back to its original width,"
      ],
      "metadata": {
        "id": "NheKvPJFZSOA"
      }
    },
    {
      "cell_type": "code",
      "source": [
        "Y=np.reshape(Y,(-1,4))\n",
        "Y"
      ],
      "metadata": {
        "colab": {
          "base_uri": "https://localhost:8080/"
        },
        "id": "6dWszbZUZUWC",
        "outputId": "c50dbcb4-8139-4af6-ee44-44a5b278abae"
      },
      "execution_count": 25,
      "outputs": [
        {
          "output_type": "execute_result",
          "data": {
            "text/plain": [
              "array([[ 0.70710678,  0.        ,  3.53553391,  0.        ],\n",
              "       [ 6.36396103,  0.        ,  9.19238816,  0.        ],\n",
              "       [12.02081528,  0.        , 14.8492424 ,  0.        ],\n",
              "       [17.67766953,  0.        , 20.50609665,  0.        ]])"
            ]
          },
          "metadata": {},
          "execution_count": 25
        }
      ]
    },
    {
      "cell_type": "markdown",
      "source": [
        "Then we need to apply the DCT along the columns. For the reshaping **in columns** of the block-length we can use the same approach, if we apply it simply to the **transposed matrix** (because here the rows and column-indices are simply interchanged), hence we get the same steps as above, just on the transpose matrix,"
      ],
      "metadata": {
        "id": "KGvpAJxwo7Pr"
      }
    },
    {
      "cell_type": "code",
      "source": [
        "Y=Y.T\n",
        "Y=np.reshape(Y,(-1,2))\n",
        "Y=sft.dct(Y,axis=1,norm='ortho')\n",
        "Mc=np.array([1,0])\n",
        "Y=np.dot(Y,np.diag(Mc))\n",
        "Y=np.reshape(Y,(-1,4))\n",
        "Y=Y.T\n",
        "Y"
      ],
      "metadata": {
        "colab": {
          "base_uri": "https://localhost:8080/"
        },
        "id": "1ZsD2_X8pCX-",
        "outputId": "26ec58e0-660a-44f9-a714-443b668c7ee5"
      },
      "execution_count": 26,
      "outputs": [
        {
          "output_type": "execute_result",
          "data": {
            "text/plain": [
              "array([[ 5.,  0.,  9.,  0.],\n",
              "       [ 0.,  0.,  0.,  0.],\n",
              "       [21.,  0., 25.,  0.],\n",
              "       [ 0.,  0.,  0.,  0.]])"
            ]
          },
          "metadata": {},
          "execution_count": 26
        }
      ]
    },
    {
      "cell_type": "markdown",
      "source": [
        "This matrix Y now contains the **DCT coefficients** of our **blocks** of size 2x2 pixels, including the application of our **low pass mask**! Here, just the “DC”value remains for every block ."
      ],
      "metadata": {
        "id": "tCoJ2azGpHm1"
      }
    },
    {
      "cell_type": "markdown",
      "source": [
        "##**Python example to Video low pass-Filtering with Block by block DCT:**\n",
        "Implementation with :\n",
        "\n",
        "    python videorecdctblocks0idctdisp.py"
      ],
      "metadata": {
        "id": "LDslyErjpPFp"
      }
    },
    {
      "cell_type": "markdown",
      "source": [
        "**Observe**: In the original we see the 8x8 pixel block raster as white grid.\n",
        "\n",
        "In the 2D-DCT image we now see many small 2D-DCT-spectra, corresponding to the 8 pixel x 8 pixel block division.\n",
        "\n",
        "In the resulting video of the inverse 2D DCT the  ringing artifacts indeed disappeared, but now we have “blocking” artifacts, which are familiar artifacts from MPEG and JPEG Coding."
      ],
      "metadata": {
        "id": "kCAkUBb_pUeB"
      }
    },
    {
      "cell_type": "markdown",
      "source": [
        "Here we have now decreased the number of DCT coefficients by a factor of 4*4=16 (good compression), but at the price of these artifacts. When we keep more DCT coefficients, we will get better quality.\n",
        "\n",
        "For **color**, this processing is done separately for the **Y-component** and the downsampled **color components** U, V , or Cr, Cb, downsampled e.g. according to the 4:2:0 scheme."
      ],
      "metadata": {
        "id": "hSYny-bfpZns"
      }
    },
    {
      "cell_type": "markdown",
      "source": [
        "For transmission or storage we need to convert the subband values into bits, and for that we need to apply quantization. We can now simply quantize a suitable subset of **DCT coefficients** resp. **subband values, and transfer them to decoder**. Because the DCT decomposes our image into different spatial frequency components, we can choose the quantization step size according to the Contrast Sensitivity Function of the eye, which tells us the sensitivity of the eye for each spatial frequency component, in such a way that the eye does not see quantization artifacts."
      ],
      "metadata": {
        "id": "XJSQKWb5pgwN"
      }
    }
  ]
}