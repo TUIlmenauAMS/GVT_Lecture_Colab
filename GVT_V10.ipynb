{
  "nbformat": 4,
  "nbformat_minor": 0,
  "metadata": {
    "colab": {
      "provenance": [],
      "include_colab_link": true
    },
    "kernelspec": {
      "name": "python3",
      "display_name": "Python 3"
    },
    "language_info": {
      "name": "python"
    }
  },
  "cells": [
    {
      "cell_type": "markdown",
      "metadata": {
        "id": "view-in-github",
        "colab_type": "text"
      },
      "source": [
        "<a href=\"https://colab.research.google.com/github/TUIlmenauAMS/GVT_Lecture_Colab/blob/main/GVT_V10.ipynb\" target=\"_parent\"><img src=\"https://colab.research.google.com/assets/colab-badge.svg\" alt=\"Open In Colab\"/></a>"
      ]
    },
    {
      "cell_type": "markdown",
      "source": [
        "# **Lecture Fundamentals of Video Technology**\n",
        "\n",
        "## Gerald Schuller\n",
        "\n",
        "## gerald.schuller@tu-ilmenau.de"
      ],
      "metadata": {
        "id": "vEBiF17Iu0A7"
      }
    },
    {
      "cell_type": "markdown",
      "source": [
        "###**Lecture Video:**\n",
        "\n",
        "https://youtu.be/8oc00p6kZJQ"
      ],
      "metadata": {
        "id": "FXodMysXu1K_"
      }
    },
    {
      "cell_type": "code",
      "source": [
        "from IPython.display import YouTubeVideo\n",
        "YouTubeVideo('8oc00p6kZJQ')"
      ],
      "metadata": {
        "colab": {
          "base_uri": "https://localhost:8080/",
          "height": 321
        },
        "id": "LzntzrPFu6AA",
        "outputId": "5ffc1a55-eff4-4af5-e691-758a48ce0d3d"
      },
      "execution_count": null,
      "outputs": [
        {
          "output_type": "execute_result",
          "data": {
            "text/plain": [
              "<IPython.lib.display.YouTubeVideo at 0x7fd52da1e350>"
            ],
            "text/html": [
              "\n",
              "        <iframe\n",
              "            width=\"400\"\n",
              "            height=\"300\"\n",
              "            src=\"https://www.youtube.com/embed/8oc00p6kZJQ\"\n",
              "            frameborder=\"0\"\n",
              "            allowfullscreen\n",
              "            \n",
              "        ></iframe>\n",
              "        "
            ],
            "image/jpeg": "[encoded data removed]"
          },
          "metadata": {},
          "execution_count": 1
        }
      ]
    },
    {
      "cell_type": "markdown",
      "source": [
        "#**Digital Filters**\n",
        "We saw: For the filtering of the bit and clock components in our transmission we implemented our low pass filter with the function \"lfilter\". **How does this function work?**\n",
        "\n",
        "For this we can first have a look at the help-function of \"lfilter\" in Python. In the terminal window, we type:\n",
        "\n",
        "    python\n",
        "\n",
        "    from scipy.signal import *\n",
        "\n",
        "    help(lfilter)\n",
        "\n",
        "and then get a description of how the function's output is calculated, as below:\n",
        "\n",
        "     a[0]*y[n] = b[0]*x[n] + b[1]*x[n-1] + ... + b[nb]*x[n-nb] - a[1]*y[n-1] - ... - a[na]*y[n-na] \n",
        "\n",
        "More compactly written: The output y[n] at time n is calculated by\n",
        "\n",
        "$$a[0]⋅y[n]=\\sum_{m=0}^{nb}b[m]⋅x[n-m]-\\sum_{m-1}^{na}a[m]⋅y[n-m]$$\n",
        "\n",
        "We see: This is a **convolution sum** of past input values x including the latest value x[n] and past output values y, but without the latest value y[n] to avoid a loop without delay."
      ],
      "metadata": {
        "id": "1PvV796lFNWg"
      }
    },
    {
      "cell_type": "markdown",
      "source": [
        "Such a filter is a so-called \"**Linear Time Invariant System\" (LTI System)** because it complies with the following rules:\n",
        "\n",
        "Lets call $F(x[n])$ as our Filter with input signal $x[n]$, then:\n",
        "\n",
        "**Linearity**: For 2 signals $x_1[n]$ and $x_2[n]$:\n",
        "\n",
        "$$f(x_1[n]+x_2[n])=F(x_1[n])+F(x_2[n])$$\n",
        "\n",
        "For a factor $a$ :\n",
        "\n",
        "$$F(a⋅x[n])=a⋅F(x[n])$$\n",
        "\n",
        "This means that we can **\"extract\" sums and factors** from the function.\n",
        "\n",
        "**Time Invariance**: When \n",
        "\n",
        "$$y[n]=F(x[n])$$\n",
        "\n",
        "Then applying a shift by $n_0$ :\n",
        "\n",
        "$$y[n+n_0]=F(x[n+n_0])$$\n",
        "\n",
        "This means that our function remains the **same regardless of when** we use it.\n"
      ],
      "metadata": {
        "id": "bhlsR--KF6lG"
      }
    },
    {
      "cell_type": "markdown",
      "source": [
        "Our desired low-pass filter should now work like our \"mask\" in the DFT frequency bands or filter for our image for the sub-sampling (see slide set 4), it should get the signal components at high frequencies as close as possible to zero, i. e. attenuate, but at the same time leave the signal components at the desired low frequencies unchanged.\n",
        "\n",
        "Our mask or filter in the DFT frequency bands, the transfer function, should therefore ideally have a factor of 1 at the desired frequencies, and a factor of 0 at the unwanted frequencies.\n",
        "\n",
        "Let's call the **frequency index** of the DFT as $k$ and the **transfer function** of our filter depending on the frequency index as $H(k)$ ."
      ],
      "metadata": {
        "id": "uqaAFlysHBgK"
      }
    },
    {
      "cell_type": "markdown",
      "source": [
        "To calculate whether our filter does what it is supposed to do, we have to calculate the DFT of the entire output signal y(n) (or a certain part of it) . For this we treat the signals x and y again as vectors of the desired length (given by the length of the DFT).\n",
        "\n",
        "The linearity of the DFT helps us here. With the signal vectors $x, y$ and the constant $b$ , we use the **linearity rule**:\n",
        "\n",
        "$$DFT(x+y)=DFT(x)+DFT(y)$$\n",
        "$$DFT(b⋅x)=b⋅DFT(x)$$\n",
        "\n",
        "In our convolution sum also the delayed versions $x(m-n)$ and $y(m-n)$ appear. What is the DFT of it?\n",
        "\n",
        "For this purpose we look again at the definition of the DFT from slide set 4:\n",
        "\n",
        "$$X(k)=\\sum_{n=0}^{N-1}x(n)⋅e^{\\frac{-j⋅2⋅π}{N}⋅n⋅k}$$\n",
        "\n",
        "for $k=0,...,N-1$ .\n",
        "\n",
        "In order to simplify this calculation, we will first of all use\n",
        "\n",
        "$$z=e^{j⋅\\frac{2⋅π⋅k}{N}}$$\n",
        "\n",
        "because this factor is independent of the run index of the sum. "
      ],
      "metadata": {
        "id": "tYs3r6rVHMrG"
      }
    },
    {
      "cell_type": "markdown",
      "source": [
        "**Note that** our so defined  contains exactly N uniformly distributed points on the **unit circle** around the origin of the **complex plane**.\n",
        "\n",
        "**Observe**: The **normalized frequency** is $\\frac{2⋅π⋅k}{N}$ , which is now also the **angle of our complex number** $z$!"
      ],
      "metadata": {
        "id": "OjPQlYh8INoD"
      }
    },
    {
      "cell_type": "markdown",
      "source": [
        "Since this factor z now also contains the frequency index k, it also appears as a new argument on the left side, and we get the simplified expression:\n",
        "\n",
        "$$X(z)=\\sum_{n=0}^{N-1}x(n)⋅z^{-n}$$\n",
        "\n",
        "When looking at this expression one can get the idea to use not only the N complex points on the unit circle of the complex plane for $z$, but also arbitrary complex numbers, which simplifies the mathematical analysis and processing. This is indeed done. In the above expression for a signal sequence of length N, this transform is called **z-Transform**. The sum runs over the non-zero part of the signal.\n",
        "\n",
        "In this transformation we simply use $x(m-n)$ to obtain the z-transform of the delayed signal $X_{delayed}(z)$ . Note that the sum index here is m, and n is assumed to be constant delay. We can adjust the range of the sum to the shifted range of the signal:\n",
        "\n",
        "\\begin{align*}\n",
        " X_{delayed}(z) &= \\sum_{m=n}^{N-1+n}x(m-n)⋅z^{-m} → Index-Substitution m→m+n \\\\\n",
        "      &= \\sum_{m=0}^{N-1}x(m)⋅z^{-m-n} \\\\\n",
        "      &= z^{-n}⋅\\sum_{m=0}^{N-1}x(m)⋅z^{-m} \\\\\n",
        "      &= z^{-n}⋅X(z)\n",
        "\\end{align*}"
      ],
      "metadata": {
        "id": "70byS4jBIjMn"
      }
    },
    {
      "cell_type": "markdown",
      "source": [
        "**We see**: The  **z-transform** of the signal shifted or delayed by **n values** is the **z-transform of the undelayed signal multiplied by the factor** $z^{-1}$ !\n",
        "\n",
        "This is the **delay rule**"
      ],
      "metadata": {
        "id": "BU2bDYnsJ9Z0"
      }
    },
    {
      "cell_type": "markdown",
      "source": [
        "Now we have all the necessary \"tools\" for the closed form calculation of the z-transform and thus the DFT of our filters above. This allows us to calculate the transfer function. The convolution sum of our output was\n",
        "\n",
        "$$a[0]⋅y[n]=\\sum_{m=0}^{nb}b[m]⋅x[n-m]-\\sum_{m-1}^{na}a[m]⋅y[n-m]$$\n",
        "\n",
        "The z-transform of the output is now obtained by using the **linearity rule** and the **delay rule**.\n",
        "\n",
        "$$a[0]⋅Y(z)=X(z)⋅\\sum_{m=0}^{nb}b[m]⋅z^{-m}-Y(z)⋅\\sum_{m-1}^{na}a[m]⋅z^{-m}$$\n",
        "\n",
        "This is now our output in the **z domain**.\n",
        "\n",
        "To determine our transfer function $H(k)$ or $H(z)$ we need a representation such as\n",
        "\n",
        "$$Y(z)=H(z)⋅X(z)$$\n",
        "\n",
        "or\n",
        "\n",
        "$$H(z)=\\frac{Y(z)}{X(z)}$$\n",
        "\n",
        "So we reshape our equation of output in the z-domain accordingly, first by moving all factors from $Y(z)$ to the left side,\n",
        "\n",
        "$$Y(z)⋅(a[0]+\\sum_{m=1}^{na}a[m]⋅z^{-n})=X(z)⋅\\sum_{m=0}^{nb}b[m]⋅z^{-n}$$\n",
        "\n",
        "Now we can divide both sides by the factors of $Y(z)$ and by $X(z)$ and thus obtain our desired transfer function:\n",
        "\n",
        "$$H(z)=\\frac{Y(z)}{X(z)}=\\frac{\\sum_{m=0}^{nb}b[m]⋅z^{-m}}{a[0]+\\sum_{m=1}^{na}a[m]⋅z^{-m}}$$\n",
        "\n",
        "**We see**: We obtain a **fraction**, whose **denominator** and **numerator** are **polynomials in z**.\n",
        "\n",
        "Note that the expressions in numerator and denominator also include the **z-transformed coefficient vectors**\n",
        "\n",
        "$b=[b[0],...,b[nb]]$ and $a=[a[0],...,a[nb]]$.  If $B(z)$ and $A(z) are the z-transformation of the coefficients vectors, we simply get:\n",
        "\n",
        "$$H(z)=\\frac{B(z)}{A(z)}$$\n",
        "\n",
        "In order to calculate and plot our frequency response, we need the transfer function depending on the DFT frequency index k, i. e. $H(k)$ . We receive these by our (re)replacement of\n",
        "\n",
        "$$z=e^{j⋅\\frac{2⋅π⋅k}{N}}$$\n",
        "\n",
        "also\n",
        "\n",
        "$$H(k)=\\frac{\\sum_{m=0}^{nb}b[m]⋅e^{-j\\frac{2⋅π⋅k⋅m}{N}}}{a[0]+\\sum_{m=1}^{na}a[m]⋅e^{j⋅\\frac{-2⋅π⋅k⋅m}{N}}}$$\n",
        "\n"
      ],
      "metadata": {
        "id": "NC-gypBIKS0F"
      }
    },
    {
      "cell_type": "markdown",
      "source": [
        "with the frequency index $k=0,...,N-1$.\n",
        "\n",
        "Analogous to the z-transformation we can rewrite this expression into a fraction from the DFT of the coefficients vectors.  \n",
        "\n",
        "Their DFT at the frequency index k is $B(k)$  and $A(k)$ . That's what we get with it: Their DFT at the frequency index k is $B(k)$ and $A(k)$ . With that we get:\n",
        "\n",
        "$$H(k)=\\frac{B(k)}{A(k)}$$\n",
        "\n",
        "We can calculate this for each frequency index k.\n",
        "\n",
        "This is exactly what our function \"**freqz**\" in Python's scipy. signal library does. This has a default or standard value of the DFT length of $N=1024$ to calculate 1024 frequency points between the **normalized frequencies** 0 and $2π$ (which corresponds to our sampling frequency).Since the vectors for **a** and **b** are usually shorter, they are simply **filled** up **with zeros** to a length of 1024 to obtain this number of frequency points. By default, only the **lower half** of this range is displayed by this function (i. e. 512 frequency points to half the sampling frequency or Nyquist frequency), because the upper half of our real-value coefficients and signals is symmetrical to it."
      ],
      "metadata": {
        "id": "cbo-OXiNOLtm"
      }
    },
    {
      "cell_type": "markdown",
      "source": [
        "#**Python Example**\n",
        "For our AM demodulator we needed a low pass with the upper cut-off frequency of 500 Hz at 16000 Hz Nyquist frequency.  We calculate our filter coefficients with the function \"iirfilter\", and we want to check the resulting coefficients.\n",
        "\n",
        "We start python (this time not ipython) in command line mode in the terminal by typing:"
      ],
      "metadata": {
        "id": "Sy3PiL_OOyMf"
      }
    },
    {
      "cell_type": "code",
      "source": [
        "from scipy.signal import *\n",
        "import numpy as np\n",
        "import matplotlib.pyplot as plt\n",
        "[b,a]=iirfilter(2, 500.0/16000,rp=60,btype='lowpass') \n",
        "[w,H]=freqz(b,a)"
      ],
      "metadata": {
        "id": "IsoBJnopO2LH"
      },
      "execution_count": 1,
      "outputs": []
    },
    {
      "cell_type": "code",
      "execution_count": 2,
      "metadata": {
        "colab": {
          "base_uri": "https://localhost:8080/",
          "height": 472
        },
        "id": "v_vKolAjE83O",
        "outputId": "f60b8513-1851-44ad-9295-d7cc527744a9"
      },
      "outputs": [
        {
          "output_type": "display_data",
          "data": {
            "text/plain": [
              "<Figure size 640x480 with 1 Axes>"
            ],
            "image/png": "[encoded data removed]"
          },
          "metadata": {}
        }
      ],
      "source": [
        "#Plot the frequency response of the \n",
        "#transfer function H(k): \n",
        "Ha=np.absolute(H) \n",
        "plt.plot(Ha)\n",
        "plt.title('Frequency response of the filter transfer function')\n",
        "plt.xlabel('Frequency index k (512=Nyquist Freq.)')\n",
        "plt.ylabel('Magnitude')\n",
        "plt.show()"
      ]
    },
    {
      "cell_type": "markdown",
      "source": [
        "This is comparable to what we had seen in the AM example in slide set 8b, except that we see here directly the DFT index k on the x-axis instead of normalizing to pi for the nyquist frequency (and using python instead of ipython)."
      ],
      "metadata": {
        "id": "jHvPNHJ9PDLj"
      }
    },
    {
      "cell_type": "markdown",
      "source": [
        "#**Analysis in z-Domain**\n",
        "We can now also analyze the behavior of our filter directly in the z-domain. We have a fraction of polynomials there. Let's assume that we have a polynomial of order 2, then:\n",
        "\n",
        "$$H(z)=\\frac{\\sum_{m=0}^2b[m]⋅z^{-m}}{\\sum_{m=0}^2a[m]⋅z^{-b}}=\\frac{z^{-2}\\sum_{m=0}^2b[m]⋅z^{2-m}}{z^{-2}\\sum_{m=0}^2a[m]⋅z^{2-m}}$$\n",
        "\n",
        "Polynomials of order N have N zeroes, i. e. here we get 2 zeroes, each in numerator and denominator. The **zeros in the denominator** are also called **poles** or poles of the fraction, because the value of the fraction there goes towards infinity. The zeros of the numerator are simply called zeros of the fraction.\n",
        "\n",
        "By knowing the zeros and poles we are able to convert the polynomials into a product of first order polynomials. \n",
        "\n",
        "Be the two zeros $z_0,z_1$ , and the two poles $p_0,p_1$. \n",
        "\n",
        "$$H(z)=\\frac{z^{-2}\\sum_{m=0}^2b[m]⋅z^{2-n}}{z^{-2}\\sum_{m=0}^2a[m]⋅z^{2-m}}=c⋅\\frac{(z-z_0)(z-z_1)}{(z-p_0)(z-p_1)}$$\n",
        "\n",
        "with a constant $c$.\n",
        "\n",
        "**We see**: We get products and ratios with simple differences $(z-...)$.\n",
        "\n",
        "Suppose we want to calculate or estimate the **magnitude** of the transfer function $|H(z)|$.\n",
        "\n",
        "We take\n",
        "\n",
        "$$|H(z)=|c|⋅\\frac{|(z-z_0)||(z-z_1)|}{|(z-p_0)||(z-p_1)|}|$$\n",
        "\n",
        "We see: Only the **distances** $|(z-...)|$ from z to the **zeros** and **poles** determine the magnitude of the transfer function.\n"
      ],
      "metadata": {
        "id": "xdHW8LgiPFX6"
      }
    },
    {
      "cell_type": "markdown",
      "source": [
        "For estimation we will replace $z=e^{j⋅\\frac{2⋅π⋅k}{N}}$ again, so that z will go over the unit circle of the complex plane. For instance our Nyquist frequency here is k=N/2, $z=e^{j⋅π}=-1$ or . This means if we see z=-1, this means the Nyquist frequency. Hence making the equivalence between z and the complex exponential means we get this equivalence between the **angle** of z and the **normalized frequency**, $z=e^{j⋅π}$ .\n",
        "\n",
        "We see: The most significant changes in the frequency response magnitude occur at the closest proximity of z to one of the poles or zero points. In the vicinity of a zero point it will quickly decrease, in the vicinity of a pole point it will quickly increase in magnitude.\n",
        "\n",
        "In this way, the magnitude of the frequency response can be visually estimated by the position of the poles and zeros in the complex plane.\n"
      ],
      "metadata": {
        "id": "RTcu8EjPRLQS"
      }
    },
    {
      "cell_type": "markdown",
      "source": [
        "#**Python Example**\n",
        "Let's take our example of the low pass filter again, and calculate the poles and zeros with the function \"np. roots\", which automatically calculates the zeros of a polynomial given as a coefficient vector in the argument:"
      ],
      "metadata": {
        "id": "U3Y0GMCLRxfZ"
      }
    },
    {
      "cell_type": "code",
      "source": [
        "from scipy.signal import *\n",
        "import numpy as np\n",
        "import matplotlib.pyplot as plt\n",
        "[b,a]=iirfilter(2, 500.0/16000,rp=60,btype='lowpass') "
      ],
      "metadata": {
        "id": "DnyCHqA1R0Ed"
      },
      "execution_count": 3,
      "outputs": []
    },
    {
      "cell_type": "code",
      "source": [
        "#Poles and zeros of the filter:\n",
        "nullstellen=np.roots(b)\n",
        "nullstellen\n",
        "#array([-1., -1.])\n",
        "#This is two zeros locations, each at \n",
        "#-1=exp(j*pi), which means normalized \n",
        "#frequency pi, or Nyquist frequency. This \n",
        "#means we have a double zero at Nyquist \n",
        "#frequency and we have no output at the \n",
        "#highest frequency, Nyquist.\n",
        "#The pole locations:\n",
        "pole=np.roots(a)\n",
        "pole\n",
        "#array([ 0.93068057+0.06481626j,  0.93068057-0.06481626j])\n",
        "#Observe that these are 2 conjugate complex \n",
        "\n",
        "#numbers.\n",
        "#Plot the Poles in the complex plane as 'x':\n",
        "plt.plot(np.real(pole),np.imag(pole),'x')\n",
        "#Plot the zeros as 'o':\n",
        "plt.plot(np.real(nullstellen),np.imag(nullstellen),'o')\n",
        "\n",
        "#passende Axen-Skalierung:\n",
        "plt.axis([-1.1,1.1,-1.1,1.1])\n",
        "\n",
        "#Plot unit circle:\n",
        "circlere=np.zeros(512)\n",
        "circleim=np.zeros(512)\n",
        "for k in range(512):\n",
        "   circlere[k]=np.cos(2*np.pi/512*k)\n",
        "   circleim[k]=np.sin(2*np.pi/512*k)\n",
        "\n",
        "plt.plot(circlere,circleim)\n",
        "plt.title('Complex z-Plane')\n",
        "plt.axis('equal')\n",
        "plt.show()\n"
      ],
      "metadata": {
        "colab": {
          "base_uri": "https://localhost:8080/",
          "height": 452
        },
        "id": "bo5LQqwPR21C",
        "outputId": "c3f2e418-7142-4d34-f94d-9b444e1c5aa0"
      },
      "execution_count": 5,
      "outputs": [
        {
          "output_type": "display_data",
          "data": {
            "text/plain": [
              "<Figure size 640x480 with 1 Axes>"
            ],
            "image/png": "[encoded data removed]"
          },
          "metadata": {}
        }
      ]
    },
    {
      "cell_type": "markdown",
      "source": [
        "We see the two **poles** as **crosses** and as a thick **dot** the two **zeros** at z=-1. The frequency variable z moves **counterclockwise on the unit circuit** for increasing frequency index k **starting from z=1 (or zero degree)**. The Nyquist frequency, our highest frequency, is reached at z=-1 (or 180 degrees or pi Radiants).\n",
        "\n",
        "If z is close to the poles, the transfer function reaches its highest values, and its lowest values near the zeros. Since the poles are at the lowest frequencies and the zeroes are at the highest, this confirms once again that it is a low pass filter.\n",
        "\n",
        "Note: The **poles are within the unit circle**, and thus the **filter is stable** (it does not rise without input). If they are outside the unit circuit, the filter would be unstable! The instability in the Laplace transformation for analog filters corresponds to the poles with positive real parts."
      ],
      "metadata": {
        "id": "UDWsAslnSCPP"
      }
    },
    {
      "cell_type": "markdown",
      "source": [
        "#**Connection to the Laplace Transform:**\n",
        "The Laplace Transform is made for continuous signals and systems, like in analog circuits. Here you can also have infinite frequencies, because no sampling is involved. Hence the y axis is the imaginary part, which can go to infinity, and the x-axis is the real part, which can also go to infinity.\n",
        "\n",
        "The z-Transform is for discrete-time signals and systems. There we don’t have infinite frequencies, but the frequencies repeat after normalized frequency 2pi. This is reflected in the unit circle in the z-transform domain: The frequency repeats after angle 2pi!  "
      ],
      "metadata": {
        "id": "3A8bWFWLSVeu"
      }
    },
    {
      "cell_type": "markdown",
      "source": [
        "#**Python Realtime example**\n",
        "The following is a Python example, in which the sound from the microphone is processed, using our IIR low pass filter with the upper cutoff frequency of 500 Hz filters, and then outputs it to the speaker in real time:\n",
        "\n",
        "    python pyrecplay_lpfilterblock.py\n",
        "\n",
        "We hear: Speech sounds very dull, almost incomprehensible, because the higher frequencies are indeed missing."
      ],
      "metadata": {
        "id": "vw0Kg3c1SYvp"
      }
    }
  ]
}