{
  "nbformat": 4,
  "nbformat_minor": 0,
  "metadata": {
    "colab": {
      "provenance": [],
      "authorship_tag": "ABX9TyNr9YA/2Xzw/8l7u3b9OLWb",
      "include_colab_link": true
    },
    "kernelspec": {
      "name": "python3",
      "display_name": "Python 3"
    },
    "language_info": {
      "name": "python"
    }
  },
  "cells": [
    {
      "cell_type": "markdown",
      "metadata": {
        "id": "view-in-github",
        "colab_type": "text"
      },
      "source": [
        "<a href=\"https://colab.research.google.com/github/TUIlmenauAMS/GVT_Lecture_Colab/blob/main/GVT_V7.ipynb\" target=\"_parent\"><img src=\"https://colab.research.google.com/assets/colab-badge.svg\" alt=\"Open In Colab\"/></a>"
      ]
    },
    {
      "cell_type": "markdown",
      "source": [
        "# **Lecture Fundamentals of Video Technology**\n",
        "\n",
        "## Gerald Schuller\n",
        "\n",
        "## gerald.schuller@tu-ilmenau.de"
      ],
      "metadata": {
        "id": "nhWJGkLav8mg"
      }
    },
    {
      "cell_type": "markdown",
      "source": [
        "###**Lecture Video part 1:**\n",
        "\n",
        "https://youtu.be/uS4ANazNcsk\n"
      ],
      "metadata": {
        "id": "CyOmVFUiN-xl"
      }
    },
    {
      "cell_type": "code",
      "source": [
        "from IPython.display import YouTubeVideo\n",
        "YouTubeVideo('uS4ANazNcsk')"
      ],
      "metadata": {
        "colab": {
          "base_uri": "https://localhost:8080/",
          "height": 321
        },
        "id": "QdBwidbEOJvP",
        "outputId": "86316447-1ef2-4156-cba4-704e7182a3ad"
      },
      "execution_count": 1,
      "outputs": [
        {
          "output_type": "execute_result",
          "data": {
            "text/plain": [
              "<IPython.lib.display.YouTubeVideo at 0x7fe7c98e4f40>"
            ],
            "text/html": [
              "\n",
              "        <iframe\n",
              "            width=\"400\"\n",
              "            height=\"300\"\n",
              "            src=\"https://www.youtube.com/embed/uS4ANazNcsk\"\n",
              "            frameborder=\"0\"\n",
              "            allowfullscreen\n",
              "            \n",
              "        ></iframe>\n",
              "        "
            ],
            "image/jpeg": "[encoded data removed]"
          },
          "metadata": {},
          "execution_count": 1
        }
      ]
    },
    {
      "cell_type": "markdown",
      "source": [
        "###**Lecture Video part 2:**\n",
        "\n",
        "https://youtu.be/_-jG1m11Ag0"
      ],
      "metadata": {
        "id": "7WGOOmClOO0P"
      }
    },
    {
      "cell_type": "code",
      "source": [
        "YouTubeVideo('_-jG1m11Ag0')"
      ],
      "metadata": {
        "colab": {
          "base_uri": "https://localhost:8080/",
          "height": 321
        },
        "id": "HCqjVdDyOSD-",
        "outputId": "9b7768f8-99c3-406d-f3d0-661dfb8593ae"
      },
      "execution_count": 2,
      "outputs": [
        {
          "output_type": "execute_result",
          "data": {
            "text/plain": [
              "<IPython.lib.display.YouTubeVideo at 0x7fe7c98f5af0>"
            ],
            "text/html": [
              "\n",
              "        <iframe\n",
              "            width=\"400\"\n",
              "            height=\"300\"\n",
              "            src=\"https://www.youtube.com/embed/_-jG1m11Ag0\"\n",
              "            frameborder=\"0\"\n",
              "            allowfullscreen\n",
              "            \n",
              "        ></iframe>\n",
              "        "
            ],
            "image/jpeg": "[encoded data removed]"
          },
          "metadata": {},
          "execution_count": 2
        }
      ]
    },
    {
      "cell_type": "markdown",
      "source": [
        "#**Quantization, conversion of values into bits**\n",
        "We have seen that for pure brightness values we need about 100 steps, for which 7 bits are sufficient. What is the situation with DCT coefficients? We saw with the Contrast Sensitivity Function that the eye has different sensitivity for different spatial frequencies. Since our **DCT coefficients** now represent **different spatial frequencies**, this also results in different sensitivities.\n",
        "\n",
        "How do we establish the connection between the **DCT coefficients** or sub-bands and the **spatial frequencies** (in brightness oscillations or periods per degree)? To do this, we need to know how many pixels per degree appear to the eye at a given viewing distance and pixel size. "
      ],
      "metadata": {
        "id": "MmRlEIWsv-1S"
      }
    },
    {
      "cell_type": "markdown",
      "source": [
        "**Example**: We have a 50cm wide screen with 1000 pixels over this width and a viewing distance of 50cm.\n",
        "\n",
        "1 pixel has the width of 50cm/1000=5/100 cm. It appears under an angle of arctan ((5cm/100)/50cm)=1e-3 Rad=0.057 Degrees.\n",
        "So we get 1/0.057=17.45 pixel/degrees.\n",
        "Since each pixel represents a sampled value, this now corresponds to the **sampling frequency**.\n",
        "The Nyquist frequency is therefore 17.45/2=8.725 periods/degree."
      ],
      "metadata": {
        "id": "bv2M_Pu7wPyL"
      }
    },
    {
      "cell_type": "markdown",
      "source": [
        "The 8x8 block based DCT divides the frequency range from **0 to Nyquist** into 8 equal **subbands**. Each has a width of 8,725/8=1,0906 periods/degree.\n",
        "\n",
        "In this way, we have now obtained an assignment of the sub-bands or coefficients (the index k) of the DCT to the spatial frequency. The Contrast Sensitivity Function then shows us the **relative sensitivity** of the eye to the **different** sub-bands.\n",
        "\n",
        "This in turn shows us how best to quantize the DCT coefficients. The **higher** the **contrast sensitivity** in a subband, **the more accurate** we have to quantize the corresponding DCT coefficient. The coefficients of the **higher spatial frequencies** tend to require a **lower accuracy** and thus **fewer bits**.\n",
        "\n",
        "How do we now **convert** our **DCT coefficients into bits** with appropriate accuracy?\n",
        "\n",
        "We can divide our possible range of values into equal **intervals**. We can then assign an **index** to each of these intervals, which we can display and transfer with a binary **code word**. \n",
        "\n",
        "Depending on whether the value \"0\" appears in the middle or at the edge of a quantization interval, we distinguish between the so-called \"**Mid-Tread**\" and \"**Mid-Rise**\" quantizers."
      ],
      "metadata": {
        "id": "A8VVuvX1wjrm"
      }
    },
    {
      "cell_type": "markdown",
      "source": [
        "**Example**: The **Mid-Tread** quantizer (see: https://en.wikipedia.org/wiki/Quantization_ (signal_processing). \n",
        "\n",
        "In the encoder and for the Mid-Tread case, the index I is calculated from a value, $x$, by means of a simple rounding, according to the formula\n",
        "\n",
        "$$I=round(\\frac{x}{Δ})$$\n",
        "\n",
        "where Δ is the **quantization stepsize**. The reconstructed value,  $x_{rek}$,  is calculated in the **decoder** by the so-called **de-quantizer**, using the formula\n",
        "\n",
        "$$x_{rek}=I⋅Δ$$"
      ],
      "metadata": {
        "id": "-ISDtdW9xRTH"
      }
    },
    {
      "cell_type": "markdown",
      "source": [
        "If we want to use b bits to represent the indices of this range of values, index 0 represents the smallest possible value \"min\", and the largest index $2^b-1$ represents the largest possible value \"max\" (if b is the number of bits we want to spend on the index), then\n",
        "we can divide the value range (max-min) into $2^b-1$ equal intervals. Each interval then has the step height Δ of\n",
        "\n",
        "$$Δ=\\frac{max-min}{2^b-1}$$\n",
        "\n",
        "**Note**: This formula also works for b=0 bits (no transfer) if we replace 1 with 0.99 to avoid division by 0!\n",
        "\n",
        "The difference between original and reconstruction is the “quantization error” $e$\n",
        "\n",
        "$$e=x_{rek}-x$$\n"
      ],
      "metadata": {
        "id": "auAxZdg7yCS0"
      }
    },
    {
      "cell_type": "markdown",
      "source": [
        "**Example**: We have our normalized range with min=0 and max=1, b=2 bits and x=0.3.\n",
        "Then our quantization step size is\n",
        "\n",
        "$$Δ=\\frac{max-min}{2^b-1}=\\frac{1}{3}=0.33...$$\n",
        "\n",
        "the quantization index is\n",
        "\n",
        "$$I=round(\\frac{x}{Δ})=round(\\frac{0.3}{0.33...}=round(0.9)=1$$\n",
        "\n",
        "the reconstructed value in the decoder is\n",
        "\n",
        "$$x_{rek}=I⋅Δ=1⋅0.33...-0.3=0.033...$$\n",
        "\n",
        "and the quantization error is\n",
        "\n",
        "$$e=x_{rek}-x=0.33...-0.3=0.033...$$"
      ],
      "metadata": {
        "id": "Jy3Uqpbgyobo"
      }
    },
    {
      "cell_type": "markdown",
      "source": [
        "**Example of the binary representation** of the index for transmission from the encoder to the decoder, here including negative numbers:\n",
        "\n",
        "2 bits or 4 indices:\n",
        "\n",
        "|Index|Binary representation(code word)|\n",
        "|----------|:------------|\n",
        "|0|00|\n",
        "|1|01|\n",
        "|-2|10\n",
        "|-1|11|\n",
        "\n",
        "The binary representation is also called \"**code word**\"."
      ],
      "metadata": {
        "id": "XyDKulx9zZLY"
      }
    },
    {
      "cell_type": "markdown",
      "source": [
        "**Note** that the example shows the so-called **two's complement** for negative numbers, see also https://de.wikipedia.org/wiki/Zweierkomplement \n",
        "\n",
        "or\n",
        "\n",
        "https://en.wikipedia.org/wiki/Two%27s_complement\n",
        "\n",
        "The code word for negative numbers is obtained by taking the binary representation of the positive number, inverting its bits and adding 1."
      ],
      "metadata": {
        "id": "KFAwYY_O0bPS"
      }
    },
    {
      "cell_type": "markdown",
      "source": [
        "**Note**: The rounded up logarithm to base 2 of the number of indexes ($MaxIndex-MinIndex+1$) indicates the required **number of bits**:\n",
        "\n",
        "$$bitnumber=ceil(log_2(MaxIndex-MinIndex+1))$$\n",
        "\n",
        "In the above example: \n",
        "\n",
        "$$bitnumber=ceil(log_2(4))=ceil(\\frac{log(4)}{log(2)})=2$$"
      ],
      "metadata": {
        "id": "8AMq33SL0kUI"
      }
    },
    {
      "cell_type": "markdown",
      "source": [
        "#**Implementing in Python**\n",
        "The conversion of indexes to and from code words works best in Python with the so called. “**Dictionaries**”.\n",
        "\n",
        "Example: Dictionary for converting an index (e. g. index=-1) into a code word:\n",
        "The “codebook” is defined as:"
      ],
      "metadata": {
        "id": "PwoIWaDI1JLw"
      }
    },
    {
      "cell_type": "code",
      "source": [
        "codeword={0:'00',1:'01',-2:'10',-1:'11'}"
      ],
      "metadata": {
        "id": "z_sZdPR_1RU9"
      },
      "execution_count": 3,
      "outputs": []
    },
    {
      "cell_type": "markdown",
      "source": [
        "The conversion from index to code word (coding) is done by:"
      ],
      "metadata": {
        "id": "xsFr1kaM1UkE"
      }
    },
    {
      "cell_type": "code",
      "source": [
        "codeword[-1]"
      ],
      "metadata": {
        "colab": {
          "base_uri": "https://localhost:8080/",
          "height": 37
        },
        "id": "kOIMueHT1ZnC",
        "outputId": "c470aada-f730-477a-9174-d5f515cb5afe"
      },
      "execution_count": 4,
      "outputs": [
        {
          "output_type": "execute_result",
          "data": {
            "text/plain": [
              "'11'"
            ],
            "application/vnd.google.colaboratory.intrinsic+json": {
              "type": "string"
            }
          },
          "metadata": {},
          "execution_count": 4
        }
      ]
    },
    {
      "cell_type": "markdown",
      "source": [
        "This binary codeword is then transmitted to the decoder. The decoder needs to convert the codeword back into an index first. The conversion of a code word into an index in the decoder is done by defining the reverse Dictionary"
      ],
      "metadata": {
        "id": "lahL8Ivu1cMo"
      }
    },
    {
      "cell_type": "code",
      "source": [
        "decodeword={'00':0,'01':1,'10':-2,'11':-1}"
      ],
      "metadata": {
        "id": "CWrOzyd21eD8"
      },
      "execution_count": 5,
      "outputs": []
    },
    {
      "cell_type": "markdown",
      "source": [
        "and then decode with"
      ],
      "metadata": {
        "id": "4WbcOnBK1hkL"
      }
    },
    {
      "cell_type": "code",
      "source": [
        "decodeword['11'] "
      ],
      "metadata": {
        "colab": {
          "base_uri": "https://localhost:8080/"
        },
        "id": "LdLTR59i1iVY",
        "outputId": "34ca6c53-d12c-49ab-ef93-1bed2a088516"
      },
      "execution_count": 6,
      "outputs": [
        {
          "output_type": "execute_result",
          "data": {
            "text/plain": [
              "-1"
            ]
          },
          "metadata": {},
          "execution_count": 6
        }
      ]
    },
    {
      "cell_type": "markdown",
      "source": [
        "#**Python example for direct quantization of the pixels of the Y-component of the video frames:**\n",
        "We generate the quantization steps with:"
      ],
      "metadata": {
        "id": "hKRyPuoF1kif"
      }
    },
    {
      "cell_type": "code",
      "source": [
        "import numpy as np\n",
        "\n",
        "bits=2 \n",
        "#resulting quantization step size for 2^bits steps, with min=0 and max=1: \n",
        "#Dividing the value range by the number of\n",
        "#available quantization intervals, \n",
        "#to obtain the quantization step size:\n",
        "quantstufe=1.0/(2**bits-1)"
      ],
      "metadata": {
        "id": "bQwWcKGe1pc9"
      },
      "execution_count": 7,
      "outputs": []
    },
    {
      "cell_type": "markdown",
      "source": [
        "The quantization indices are calculated from the frame Y with:"
      ],
      "metadata": {
        "id": "rOdSEwOa1sCE"
      }
    },
    {
      "cell_type": "code",
      "source": [
        "import cv2\n",
        "\n",
        "cap = cv2.VideoCapture(0)\n",
        "\n",
        "[retval, frame] = cap.read()    \n",
        "Y=(0.114*frame[:,:,0]+0.587*frame[:,:,1]+0.299*frame[:,:,2])/255;\n",
        "\n",
        "#Apply mid-tread for the encoder:\n",
        "indices=np.round(Y/quantstufe)"
      ],
      "metadata": {
        "colab": {
          "base_uri": "https://localhost:8080/",
          "height": 232
        },
        "id": "6Tq8vx6C1to6",
        "outputId": "7caa7a82-63ec-40c0-b7c5-ab48615028ac"
      },
      "execution_count": 11,
      "outputs": [
        {
          "output_type": "error",
          "ename": "TypeError",
          "evalue": "ignored",
          "traceback": [
            "\u001b[0;31m---------------------------------------------------------------------------\u001b[0m",
            "\u001b[0;31mTypeError\u001b[0m                                 Traceback (most recent call last)",
            "\u001b[0;32m<ipython-input-11-7720478066dd>\u001b[0m in \u001b[0;36m<cell line: 6>\u001b[0;34m()\u001b[0m\n\u001b[1;32m      4\u001b[0m \u001b[0;34m\u001b[0m\u001b[0m\n\u001b[1;32m      5\u001b[0m \u001b[0;34m[\u001b[0m\u001b[0mretval\u001b[0m\u001b[0;34m,\u001b[0m \u001b[0mframe\u001b[0m\u001b[0;34m]\u001b[0m \u001b[0;34m=\u001b[0m \u001b[0mcap\u001b[0m\u001b[0;34m.\u001b[0m\u001b[0mread\u001b[0m\u001b[0;34m(\u001b[0m\u001b[0;34m)\u001b[0m\u001b[0;34m\u001b[0m\u001b[0;34m\u001b[0m\u001b[0m\n\u001b[0;32m----> 6\u001b[0;31m \u001b[0mY\u001b[0m\u001b[0;34m=\u001b[0m\u001b[0;34m(\u001b[0m\u001b[0;36m0.114\u001b[0m\u001b[0;34m*\u001b[0m\u001b[0mframe\u001b[0m\u001b[0;34m[\u001b[0m\u001b[0;34m:\u001b[0m\u001b[0;34m,\u001b[0m\u001b[0;34m:\u001b[0m\u001b[0;34m,\u001b[0m\u001b[0;36m0\u001b[0m\u001b[0;34m]\u001b[0m\u001b[0;34m+\u001b[0m\u001b[0;36m0.587\u001b[0m\u001b[0;34m*\u001b[0m\u001b[0mframe\u001b[0m\u001b[0;34m[\u001b[0m\u001b[0;34m:\u001b[0m\u001b[0;34m,\u001b[0m\u001b[0;34m:\u001b[0m\u001b[0;34m,\u001b[0m\u001b[0;36m1\u001b[0m\u001b[0;34m]\u001b[0m\u001b[0;34m+\u001b[0m\u001b[0;36m0.299\u001b[0m\u001b[0;34m*\u001b[0m\u001b[0mframe\u001b[0m\u001b[0;34m[\u001b[0m\u001b[0;34m:\u001b[0m\u001b[0;34m,\u001b[0m\u001b[0;34m:\u001b[0m\u001b[0;34m,\u001b[0m\u001b[0;36m2\u001b[0m\u001b[0;34m]\u001b[0m\u001b[0;34m)\u001b[0m\u001b[0;34m/\u001b[0m\u001b[0;36m255\u001b[0m\u001b[0;34m;\u001b[0m\u001b[0;34m\u001b[0m\u001b[0;34m\u001b[0m\u001b[0m\n\u001b[0m\u001b[1;32m      7\u001b[0m \u001b[0;34m\u001b[0m\u001b[0m\n\u001b[1;32m      8\u001b[0m \u001b[0;31m#Apply mid-tread for the encoder:\u001b[0m\u001b[0;34m\u001b[0m\u001b[0;34m\u001b[0m\u001b[0m\n",
            "\u001b[0;31mTypeError\u001b[0m: 'NoneType' object is not subscriptable"
          ]
        }
      ]
    },
    {
      "cell_type": "markdown",
      "source": [
        "So all pixels get the same quantization step size. \n",
        "The de-quantization (in the decoder) is then the mid-tread formula for the decoding side:"
      ],
      "metadata": {
        "id": "4zaGFT-Z15Ks"
      }
    },
    {
      "cell_type": "code",
      "source": [
        "Yrek=indices*quantstufe"
      ],
      "metadata": {
        "id": "fBz9vTX117YV"
      },
      "execution_count": null,
      "outputs": []
    },
    {
      "cell_type": "markdown",
      "source": [
        "**Calling** the program:\n",
        "\n",
        "*python videorecprocyquant.py*\n",
        "\n",
        "**We see: The fewer bits** per pixel we use, **the fewer brightness levels** we have and the more visible the light jumps become."
      ],
      "metadata": {
        "id": "75lFBW80189G"
      }
    },
    {
      "cell_type": "markdown",
      "source": [
        "#**Python example for quantization of the 8x8 DCT coefficients:**\n",
        "In this example we quantize all coefficients of the **8x8 DCT**. Because of the Parseval theorem we have to **adjust the range of values**. It can happen that the total signal energy of all 64 pixels of a block is concentrated in the DC coefficient, e. g. when all pixels are equal. Then this coefficient contains 64 times the energy. The root of it is the factor for our signal is the factor 8. It is beneficial to observe the values with real pictures and then adjust them accordingly. There, the value range from 0 to 5 can be obtained for the DC coefficients, and the value range -0.5... 0.5 for the other (AC) coefficients.\n",
        "\n",
        "In python:"
      ],
      "metadata": {
        "id": "ttOWW1PT2Ivi"
      }
    },
    {
      "cell_type": "code",
      "source": [
        "bits=2 \n",
        "#resulting quantization step size for 2^bits steps: \n",
        "#Steps for different spatial frequencies: \n",
        "#DC indices with range 0...5: \n",
        "quantstufeDC=5.0/(2**bits-1)\n",
        "#Two AC coefficients, with range 0.5-(-0.5)\n",
        "bits=2\n",
        "quantstufeAC=1.0/(2**bits-1)"
      ],
      "metadata": {
        "id": "tIe-ZBWP2RBZ"
      },
      "execution_count": null,
      "outputs": []
    },
    {
      "cell_type": "markdown",
      "source": [
        "Calculation of the indices for the DC coefficients, every 8th coefficient horizontally and vertically:"
      ],
      "metadata": {
        "id": "GQundWjZ2Tpr"
      }
    },
    {
      "cell_type": "code",
      "source": [
        "import scipy.fftpack as sft\n",
        "\n",
        "[r,c,d]=frame.shape\n",
        "\n",
        "#First reshape green frame as frame with rows of width 8, (rows: order= 'C' ), \n",
        "#and apply DCT to each row of length 8 of all blocks:\n",
        "frame=np.reshape(frame[:,:,1],(-1,8), order='C')\n",
        "X=sft.dct(frame/255.0,axis=1,norm='ortho')\n",
        "    \n",
        "#shape it back to original shape:\n",
        "X=np.reshape(X,(-1,c), order='C')\n",
        "#Shape frame with columns of hight 8 by using transposition .T:\n",
        "X=np.reshape(X.T,(-1,8), order='C')\n",
        "X=sft.dct(X,axis=1,norm='ortho')\n",
        "   \n",
        "#shape it back to original shape:\n",
        "X=(np.reshape(X,(-1,r), order='C')).T\n",
        "\n",
        "indices00=np.round(X[0::N,0::N]/quantstufeDC)"
      ],
      "metadata": {
        "colab": {
          "base_uri": "https://localhost:8080/",
          "height": 232
        },
        "id": "_ChvUydy2WOB",
        "outputId": "98113b6a-7551-47a4-fb96-32b54341b682"
      },
      "execution_count": 12,
      "outputs": [
        {
          "output_type": "error",
          "ename": "AttributeError",
          "evalue": "ignored",
          "traceback": [
            "\u001b[0;31m---------------------------------------------------------------------------\u001b[0m",
            "\u001b[0;31mAttributeError\u001b[0m                            Traceback (most recent call last)",
            "\u001b[0;32m<ipython-input-12-07c533a552bd>\u001b[0m in \u001b[0;36m<cell line: 3>\u001b[0;34m()\u001b[0m\n\u001b[1;32m      1\u001b[0m \u001b[0;32mimport\u001b[0m \u001b[0mscipy\u001b[0m\u001b[0;34m.\u001b[0m\u001b[0mfftpack\u001b[0m \u001b[0;32mas\u001b[0m \u001b[0msft\u001b[0m\u001b[0;34m\u001b[0m\u001b[0;34m\u001b[0m\u001b[0m\n\u001b[1;32m      2\u001b[0m \u001b[0;34m\u001b[0m\u001b[0m\n\u001b[0;32m----> 3\u001b[0;31m \u001b[0;34m[\u001b[0m\u001b[0mr\u001b[0m\u001b[0;34m,\u001b[0m\u001b[0mc\u001b[0m\u001b[0;34m,\u001b[0m\u001b[0md\u001b[0m\u001b[0;34m]\u001b[0m\u001b[0;34m=\u001b[0m\u001b[0mframe\u001b[0m\u001b[0;34m.\u001b[0m\u001b[0mshape\u001b[0m\u001b[0;34m\u001b[0m\u001b[0;34m\u001b[0m\u001b[0m\n\u001b[0m\u001b[1;32m      4\u001b[0m \u001b[0;34m\u001b[0m\u001b[0m\n\u001b[1;32m      5\u001b[0m \u001b[0;31m#First reshape green frame as frame with rows of width 8, (rows: order= 'C' ),\u001b[0m\u001b[0;34m\u001b[0m\u001b[0;34m\u001b[0m\u001b[0m\n",
            "\u001b[0;31mAttributeError\u001b[0m: 'NoneType' object has no attribute 'shape'"
          ]
        }
      ]
    },
    {
      "cell_type": "markdown",
      "source": [
        "For 2 AC coefficients (the others are omitted for the sake of clarity):"
      ],
      "metadata": {
        "id": "8RYQNwTm2ZEa"
      }
    },
    {
      "cell_type": "code",
      "source": [
        "indices01=np.round(X[0::N,1::N]/quantstufeAC) \n",
        "indices10=np.round(X[1::N,0::N]/quantstufeAC) "
      ],
      "metadata": {
        "colab": {
          "base_uri": "https://localhost:8080/",
          "height": 215
        },
        "id": "4gklQhJX2boY",
        "outputId": "c4e78a10-fba5-4f80-bed3-83b96eb222ab"
      },
      "execution_count": null,
      "outputs": [
        {
          "output_type": "error",
          "ename": "NameError",
          "evalue": "ignored",
          "traceback": [
            "\u001b[0;31m---------------------------------------------------------------------------\u001b[0m",
            "\u001b[0;31mNameError\u001b[0m                                 Traceback (most recent call last)",
            "\u001b[0;32m<ipython-input-11-e9c7f51b6c96>\u001b[0m in \u001b[0;36m<cell line: 1>\u001b[0;34m()\u001b[0m\n\u001b[0;32m----> 1\u001b[0;31m \u001b[0mindices01\u001b[0m\u001b[0;34m=\u001b[0m\u001b[0mnp\u001b[0m\u001b[0;34m.\u001b[0m\u001b[0mround\u001b[0m\u001b[0;34m(\u001b[0m\u001b[0mX\u001b[0m\u001b[0;34m[\u001b[0m\u001b[0;36m0\u001b[0m\u001b[0;34m:\u001b[0m\u001b[0;34m:\u001b[0m\u001b[0mN\u001b[0m\u001b[0;34m,\u001b[0m\u001b[0;36m1\u001b[0m\u001b[0;34m:\u001b[0m\u001b[0;34m:\u001b[0m\u001b[0mN\u001b[0m\u001b[0;34m]\u001b[0m\u001b[0;34m/\u001b[0m\u001b[0mquantstufeAC\u001b[0m\u001b[0;34m)\u001b[0m\u001b[0;34m\u001b[0m\u001b[0;34m\u001b[0m\u001b[0m\n\u001b[0m\u001b[1;32m      2\u001b[0m \u001b[0mindices10\u001b[0m\u001b[0;34m=\u001b[0m\u001b[0mnp\u001b[0m\u001b[0;34m.\u001b[0m\u001b[0mround\u001b[0m\u001b[0;34m(\u001b[0m\u001b[0mX\u001b[0m\u001b[0;34m[\u001b[0m\u001b[0;36m1\u001b[0m\u001b[0;34m:\u001b[0m\u001b[0;34m:\u001b[0m\u001b[0mN\u001b[0m\u001b[0;34m,\u001b[0m\u001b[0;36m0\u001b[0m\u001b[0;34m:\u001b[0m\u001b[0;34m:\u001b[0m\u001b[0mN\u001b[0m\u001b[0;34m]\u001b[0m\u001b[0;34m/\u001b[0m\u001b[0mquantstufeAC\u001b[0m\u001b[0;34m)\u001b[0m\u001b[0;34m\u001b[0m\u001b[0;34m\u001b[0m\u001b[0m\n",
            "\u001b[0;31mNameError\u001b[0m: name 'X' is not defined"
          ]
        }
      ]
    },
    {
      "cell_type": "markdown",
      "source": [
        "###De-quantization:"
      ],
      "metadata": {
        "id": "O-QvK5Fv2e_5"
      }
    },
    {
      "cell_type": "code",
      "source": [
        "#de-quantization in the decoder: \n",
        "Xrek=np.zeros((r,c));\n",
        "#DC values de-quantization: \n",
        "Xrek[0::N,0::N]=indices00*quantstufeDC \n",
        "#2 AC values de-quantization: \n",
        "Xrek[0::N,1::N]=indices01*quantstufeAC \n",
        "Xrek[1::N,0::N]=indices10*quantstufeAC"
      ],
      "metadata": {
        "colab": {
          "base_uri": "https://localhost:8080/",
          "height": 266
        },
        "id": "O95ROvW12iNr",
        "outputId": "fd157b1f-ed27-432b-daa9-e55f4c092383"
      },
      "execution_count": null,
      "outputs": [
        {
          "output_type": "error",
          "ename": "NameError",
          "evalue": "ignored",
          "traceback": [
            "\u001b[0;31m---------------------------------------------------------------------------\u001b[0m",
            "\u001b[0;31mNameError\u001b[0m                                 Traceback (most recent call last)",
            "\u001b[0;32m<ipython-input-13-8e5705240a03>\u001b[0m in \u001b[0;36m<cell line: 2>\u001b[0;34m()\u001b[0m\n\u001b[1;32m      1\u001b[0m \u001b[0;31m#de-quantization in the decoder:\u001b[0m\u001b[0;34m\u001b[0m\u001b[0;34m\u001b[0m\u001b[0m\n\u001b[0;32m----> 2\u001b[0;31m \u001b[0mXrek\u001b[0m\u001b[0;34m=\u001b[0m\u001b[0mnp\u001b[0m\u001b[0;34m.\u001b[0m\u001b[0mzeros\u001b[0m\u001b[0;34m(\u001b[0m\u001b[0;34m(\u001b[0m\u001b[0mr\u001b[0m\u001b[0;34m,\u001b[0m\u001b[0mc\u001b[0m\u001b[0;34m)\u001b[0m\u001b[0;34m)\u001b[0m\u001b[0;34m;\u001b[0m\u001b[0;34m\u001b[0m\u001b[0;34m\u001b[0m\u001b[0m\n\u001b[0m\u001b[1;32m      3\u001b[0m \u001b[0;31m#DC values de-quantization:\u001b[0m\u001b[0;34m\u001b[0m\u001b[0;34m\u001b[0m\u001b[0m\n\u001b[1;32m      4\u001b[0m \u001b[0mXrek\u001b[0m\u001b[0;34m[\u001b[0m\u001b[0;36m0\u001b[0m\u001b[0;34m:\u001b[0m\u001b[0;34m:\u001b[0m\u001b[0mN\u001b[0m\u001b[0;34m,\u001b[0m\u001b[0;36m0\u001b[0m\u001b[0;34m:\u001b[0m\u001b[0;34m:\u001b[0m\u001b[0mN\u001b[0m\u001b[0;34m]\u001b[0m\u001b[0;34m=\u001b[0m\u001b[0mindices00\u001b[0m\u001b[0;34m*\u001b[0m\u001b[0mquantstufeDC\u001b[0m\u001b[0;34m\u001b[0m\u001b[0;34m\u001b[0m\u001b[0m\n\u001b[1;32m      5\u001b[0m \u001b[0;31m#2 AC values de-quantization:\u001b[0m\u001b[0;34m\u001b[0m\u001b[0;34m\u001b[0m\u001b[0m\n",
            "\u001b[0;31mNameError\u001b[0m: name 'r' is not defined"
          ]
        }
      ]
    },
    {
      "cell_type": "markdown",
      "source": [
        "**Calling** the Prorgam:\n",
        "\n",
        "    python videorecdctblocksidctquant.py\n",
        "\n",
        "**We see**: Instead of long contours in the lightness jumps we now have **blocking artifacts**, similar to low pass filtering."
      ],
      "metadata": {
        "id": "PWyXm5112q14"
      }
    },
    {
      "cell_type": "markdown",
      "source": [
        "#**Writing bits to files in Python**\n",
        "The smallest unit we can write to a file in Python is 1 byte (8 bits). Since we only have 2 bit per index in the example, we must first form a bitstream, which we then divide into bytes.   We generate the bit stream by connecting **codewords** with"
      ],
      "metadata": {
        "id": "Fn_jgtL_2yE3"
      }
    },
    {
      "cell_type": "code",
      "source": [
        "bitstring=bitstring+codeword[value]"
      ],
      "metadata": {
        "colab": {
          "base_uri": "https://localhost:8080/",
          "height": 198
        },
        "id": "u_UMMBx923Jl",
        "outputId": "0e81e3f1-aac2-4c96-90a2-558a8669e105"
      },
      "execution_count": null,
      "outputs": [
        {
          "output_type": "error",
          "ename": "NameError",
          "evalue": "ignored",
          "traceback": [
            "\u001b[0;31m---------------------------------------------------------------------------\u001b[0m",
            "\u001b[0;31mNameError\u001b[0m                                 Traceback (most recent call last)",
            "\u001b[0;32m<ipython-input-14-d5cec5a51bdb>\u001b[0m in \u001b[0;36m<cell line: 1>\u001b[0;34m()\u001b[0m\n\u001b[0;32m----> 1\u001b[0;31m \u001b[0mbitstring\u001b[0m\u001b[0;34m=\u001b[0m\u001b[0mbitstring\u001b[0m\u001b[0;34m+\u001b[0m\u001b[0mcodeword\u001b[0m\u001b[0;34m[\u001b[0m\u001b[0mvalue\u001b[0m\u001b[0;34m]\u001b[0m\u001b[0;34m\u001b[0m\u001b[0;34m\u001b[0m\u001b[0m\n\u001b[0m",
            "\u001b[0;31mNameError\u001b[0m: name 'bitstring' is not defined"
          ]
        }
      ]
    },
    {
      "cell_type": "markdown",
      "source": [
        "where \"value\" is our index to be coded. We implement this as a function '*data2codestring*' in  File *writereadbits.py*.\n",
        "\n",
        "Converting the **code string** into a **sequence of 8-bit numbers** is done with the command \"eval\", which executes a string (in the writebinaryfile function of the writereadbits. py library) which converts it into numbers:"
      ],
      "metadata": {
        "id": "V2P5cor126k9"
      }
    },
    {
      "cell_type": "code",
      "source": [
        "for m in range(numbytes):\n",
        "\t   Bytes[m]=eval('0b'+bitstring[m*8:(m*8+8)])"
      ],
      "metadata": {
        "colab": {
          "base_uri": "https://localhost:8080/",
          "height": 215
        },
        "id": "AseVBY0V3F5L",
        "outputId": "b4b18a05-171c-433d-c6a5-39e50718f15b"
      },
      "execution_count": null,
      "outputs": [
        {
          "output_type": "error",
          "ename": "NameError",
          "evalue": "ignored",
          "traceback": [
            "\u001b[0;31m---------------------------------------------------------------------------\u001b[0m",
            "\u001b[0;31mNameError\u001b[0m                                 Traceback (most recent call last)",
            "\u001b[0;32m<ipython-input-16-c59eb54afd4e>\u001b[0m in \u001b[0;36m<cell line: 1>\u001b[0;34m()\u001b[0m\n\u001b[0;32m----> 1\u001b[0;31m \u001b[0;32mfor\u001b[0m \u001b[0mm\u001b[0m \u001b[0;32min\u001b[0m \u001b[0mrange\u001b[0m\u001b[0;34m(\u001b[0m\u001b[0mnumbytes\u001b[0m\u001b[0;34m)\u001b[0m\u001b[0;34m:\u001b[0m\u001b[0;34m\u001b[0m\u001b[0;34m\u001b[0m\u001b[0m\n\u001b[0m\u001b[1;32m      2\u001b[0m            \u001b[0mBytes\u001b[0m\u001b[0;34m[\u001b[0m\u001b[0mm\u001b[0m\u001b[0;34m]\u001b[0m\u001b[0;34m=\u001b[0m\u001b[0meval\u001b[0m\u001b[0;34m(\u001b[0m\u001b[0;34m'0b'\u001b[0m\u001b[0;34m+\u001b[0m\u001b[0mbitstring\u001b[0m\u001b[0;34m[\u001b[0m\u001b[0mm\u001b[0m\u001b[0;34m*\u001b[0m\u001b[0;36m8\u001b[0m\u001b[0;34m:\u001b[0m\u001b[0;34m(\u001b[0m\u001b[0mm\u001b[0m\u001b[0;34m*\u001b[0m\u001b[0;36m8\u001b[0m\u001b[0;34m+\u001b[0m\u001b[0;36m8\u001b[0m\u001b[0;34m)\u001b[0m\u001b[0;34m]\u001b[0m\u001b[0;34m)\u001b[0m\u001b[0;34m\u001b[0m\u001b[0;34m\u001b[0m\u001b[0m\n",
            "\u001b[0;31mNameError\u001b[0m: name 'numbytes' is not defined"
          ]
        }
      ]
    },
    {
      "cell_type": "markdown",
      "source": [
        "Here partial strings of 8 characters each are evaluated, with the string' 0b' at the beginning they are interpreted as binary numbers, which are written into the array \"Bytes\". \n",
        "\n",
        "The conversion of **the array** of 8-bit numbers into a **stream of bytes** is done with the command"
      ],
      "metadata": {
        "id": "I-FCDcu13Lzz"
      }
    },
    {
      "cell_type": "code",
      "source": [
        "import struct\n",
        "\n",
        "s=struct.pack('B'*len(Bytes), *Bytes)"
      ],
      "metadata": {
        "colab": {
          "base_uri": "https://localhost:8080/",
          "height": 232
        },
        "id": "pbkqSFOC3Rtb",
        "outputId": "48ec88c4-f2a9-4529-a8e9-9235c649d96e"
      },
      "execution_count": null,
      "outputs": [
        {
          "output_type": "error",
          "ename": "NameError",
          "evalue": "ignored",
          "traceback": [
            "\u001b[0;31m---------------------------------------------------------------------------\u001b[0m",
            "\u001b[0;31mNameError\u001b[0m                                 Traceback (most recent call last)",
            "\u001b[0;32m<ipython-input-18-806619d6e282>\u001b[0m in \u001b[0;36m<cell line: 3>\u001b[0;34m()\u001b[0m\n\u001b[1;32m      1\u001b[0m \u001b[0;32mimport\u001b[0m \u001b[0mstruct\u001b[0m\u001b[0;34m\u001b[0m\u001b[0;34m\u001b[0m\u001b[0m\n\u001b[1;32m      2\u001b[0m \u001b[0;34m\u001b[0m\u001b[0m\n\u001b[0;32m----> 3\u001b[0;31m \u001b[0ms\u001b[0m\u001b[0;34m=\u001b[0m\u001b[0mstruct\u001b[0m\u001b[0;34m.\u001b[0m\u001b[0mpack\u001b[0m\u001b[0;34m(\u001b[0m\u001b[0;34m'B'\u001b[0m\u001b[0;34m*\u001b[0m\u001b[0mlen\u001b[0m\u001b[0;34m(\u001b[0m\u001b[0mBytes\u001b[0m\u001b[0;34m)\u001b[0m\u001b[0;34m,\u001b[0m \u001b[0;34m*\u001b[0m\u001b[0mBytes\u001b[0m\u001b[0;34m)\u001b[0m\u001b[0;34m\u001b[0m\u001b[0;34m\u001b[0m\u001b[0m\n\u001b[0m",
            "\u001b[0;31mNameError\u001b[0m: name 'Bytes' is not defined"
          ]
        }
      ]
    },
    {
      "cell_type": "markdown",
      "source": [
        "'B' means: unsigned byte, because we already have the sign in our code words. bytes means: Pointer to our array with 8-bit numbers, i. e. integers between 0 and 255. \n",
        "\n",
        "###**Example:**"
      ],
      "metadata": {
        "id": "07ePS3IY3Lrt"
      }
    },
    {
      "cell_type": "code",
      "source": [
        "import struct\n",
        "import numpy as np\n",
        "bitstring='000000010000001011111111'\n",
        "#Erzeugen unseres Arrays aus 8-bit Zahlen:\n",
        "Bytes=np.zeros(3,dtype=int)\n",
        "for m in range(3):\n",
        "\t   Bytes[m]=eval('0b'+bitstring[m*8:(m*8+8)])\n",
        "Bytes\n",
        "#array([  1,   2, 255])\n",
        "#Erzeugen des Byte-Stroms:\n",
        "s=struct.pack('B'*len(Bytes), *Bytes)\n",
        "s"
      ],
      "metadata": {
        "colab": {
          "base_uri": "https://localhost:8080/"
        },
        "id": "OWS5Ijqc3bLJ",
        "outputId": "3ce59d7d-a005-41cf-cc44-bb0c8243a353"
      },
      "execution_count": null,
      "outputs": [
        {
          "output_type": "execute_result",
          "data": {
            "text/plain": [
              "b'\\x01\\x02\\xff'"
            ]
          },
          "metadata": {},
          "execution_count": 20
        }
      ]
    },
    {
      "cell_type": "markdown",
      "source": [
        "'\\x..' means a \"hexadecimal\" number whose digits consist of 4 bits. 4 bits can accept 16 values, e. g. between 0 and 15.10 to 15 values are represented by the letters 'a' to 'f'. Hence the hexadecimal number 'ff' for 255, which consists of two binary numbers '1111', ie hexadecimal 'f'.\n",
        "\n",
        "We can then write this stream to a file, with"
      ],
      "metadata": {
        "id": "kon-9SSa3m46"
      }
    },
    {
      "cell_type": "code",
      "source": [
        "file=open(filename, \"wb\") \n",
        "#'w' deletes exisiting file, 'a' appends \n",
        "file.write(s) \n",
        "file.close()"
      ],
      "metadata": {
        "colab": {
          "base_uri": "https://localhost:8080/",
          "height": 249
        },
        "id": "jbJyH5673vEy",
        "outputId": "ac60237f-adb3-4f3a-d1fe-2c62f6488106"
      },
      "execution_count": null,
      "outputs": [
        {
          "output_type": "error",
          "ename": "NameError",
          "evalue": "ignored",
          "traceback": [
            "\u001b[0;31m---------------------------------------------------------------------------\u001b[0m",
            "\u001b[0;31mNameError\u001b[0m                                 Traceback (most recent call last)",
            "\u001b[0;32m<ipython-input-21-d24f6805f8b8>\u001b[0m in \u001b[0;36m<cell line: 1>\u001b[0;34m()\u001b[0m\n\u001b[0;32m----> 1\u001b[0;31m \u001b[0mfile\u001b[0m\u001b[0;34m=\u001b[0m\u001b[0mopen\u001b[0m\u001b[0;34m(\u001b[0m\u001b[0mfilename\u001b[0m\u001b[0;34m,\u001b[0m \u001b[0;34m\"wb\"\u001b[0m\u001b[0;34m)\u001b[0m\u001b[0;34m\u001b[0m\u001b[0;34m\u001b[0m\u001b[0m\n\u001b[0m\u001b[1;32m      2\u001b[0m \u001b[0;31m#'w' deletes exisiting file, 'a' appends\u001b[0m\u001b[0;34m\u001b[0m\u001b[0;34m\u001b[0m\u001b[0m\n\u001b[1;32m      3\u001b[0m \u001b[0mfile\u001b[0m\u001b[0;34m.\u001b[0m\u001b[0mwrite\u001b[0m\u001b[0;34m(\u001b[0m\u001b[0ms\u001b[0m\u001b[0;34m)\u001b[0m\u001b[0;34m\u001b[0m\u001b[0;34m\u001b[0m\u001b[0m\n\u001b[1;32m      4\u001b[0m \u001b[0mfile\u001b[0m\u001b[0;34m.\u001b[0m\u001b[0mclose\u001b[0m\u001b[0;34m(\u001b[0m\u001b[0;34m)\u001b[0m\u001b[0;34m\u001b[0m\u001b[0;34m\u001b[0m\u001b[0m\n",
            "\u001b[0;31mNameError\u001b[0m: name 'filename' is not defined"
          ]
        }
      ]
    },
    {
      "cell_type": "markdown",
      "source": [
        "We implement this as a function '*writebinaryfile*' in the file '*writereadbits.py*'.\n",
        "\n",
        "In the **decoder** we have to reopen this file and read the byte stream:"
      ],
      "metadata": {
        "id": "JxeNPlZ533Wi"
      }
    },
    {
      "cell_type": "code",
      "source": [
        "file=open(filename, \"rb\") \n",
        "#read the stream from file: \n",
        "readdata=file.read() \n",
        "#unpacks the stream into an array of Bytes: \n",
        "Bytesread=struct.unpack('B'*len(readdata),readdata)"
      ],
      "metadata": {
        "colab": {
          "base_uri": "https://localhost:8080/",
          "height": 266
        },
        "id": "pXkb3OME3_NG",
        "outputId": "3c8a96c8-5994-41e1-9715-2af0d4f7e646"
      },
      "execution_count": null,
      "outputs": [
        {
          "output_type": "error",
          "ename": "NameError",
          "evalue": "ignored",
          "traceback": [
            "\u001b[0;31m---------------------------------------------------------------------------\u001b[0m",
            "\u001b[0;31mNameError\u001b[0m                                 Traceback (most recent call last)",
            "\u001b[0;32m<ipython-input-22-8d16a82d8061>\u001b[0m in \u001b[0;36m<cell line: 1>\u001b[0;34m()\u001b[0m\n\u001b[0;32m----> 1\u001b[0;31m \u001b[0mfile\u001b[0m\u001b[0;34m=\u001b[0m\u001b[0mopen\u001b[0m\u001b[0;34m(\u001b[0m\u001b[0mfilename\u001b[0m\u001b[0;34m,\u001b[0m \u001b[0;34m\"rb\"\u001b[0m\u001b[0;34m)\u001b[0m\u001b[0;34m\u001b[0m\u001b[0;34m\u001b[0m\u001b[0m\n\u001b[0m\u001b[1;32m      2\u001b[0m \u001b[0;31m#read the stream from file:\u001b[0m\u001b[0;34m\u001b[0m\u001b[0;34m\u001b[0m\u001b[0m\n\u001b[1;32m      3\u001b[0m \u001b[0mreaddata\u001b[0m\u001b[0;34m=\u001b[0m\u001b[0mfile\u001b[0m\u001b[0;34m.\u001b[0m\u001b[0mread\u001b[0m\u001b[0;34m(\u001b[0m\u001b[0;34m)\u001b[0m\u001b[0;34m\u001b[0m\u001b[0;34m\u001b[0m\u001b[0m\n\u001b[1;32m      4\u001b[0m \u001b[0;31m#unpacks the stream into an array of Bytes:\u001b[0m\u001b[0;34m\u001b[0m\u001b[0;34m\u001b[0m\u001b[0m\n\u001b[1;32m      5\u001b[0m \u001b[0mBytesread\u001b[0m\u001b[0;34m=\u001b[0m\u001b[0mstruct\u001b[0m\u001b[0;34m.\u001b[0m\u001b[0munpack\u001b[0m\u001b[0;34m(\u001b[0m\u001b[0;34m'B'\u001b[0m\u001b[0;34m*\u001b[0m\u001b[0mlen\u001b[0m\u001b[0;34m(\u001b[0m\u001b[0mreaddata\u001b[0m\u001b[0;34m)\u001b[0m\u001b[0;34m,\u001b[0m\u001b[0mreaddata\u001b[0m\u001b[0;34m)\u001b[0m\u001b[0;34m\u001b[0m\u001b[0;34m\u001b[0m\u001b[0m\n",
            "\u001b[0;31mNameError\u001b[0m: name 'filename' is not defined"
          ]
        }
      ]
    },
    {
      "cell_type": "markdown",
      "source": [
        "Afterwards we create a bitstream from it, by creating bits from the bytes and connecting them to each other:"
      ],
      "metadata": {
        "id": "5QuCmYAH4DN4"
      }
    },
    {
      "cell_type": "code",
      "source": [
        "for byte in Bytesread: \n",
        "\t   #create bit string from byte: \n",
        "\t   bits=bin(byte) \n",
        "\t   #remove leading '0b' and fill up to 8 bits with leading zeros: \n",
        "bits=bits[2:].zfill(8) \n",
        "\t   #append to bits to bitstring: \n",
        "bitstring=bitstring+bits"
      ],
      "metadata": {
        "colab": {
          "base_uri": "https://localhost:8080/",
          "height": 283
        },
        "id": "D8zPv-614FXo",
        "outputId": "a958b418-6996-48a3-8ad7-9b0481b3e576"
      },
      "execution_count": null,
      "outputs": [
        {
          "output_type": "error",
          "ename": "NameError",
          "evalue": "ignored",
          "traceback": [
            "\u001b[0;31m---------------------------------------------------------------------------\u001b[0m",
            "\u001b[0;31mNameError\u001b[0m                                 Traceback (most recent call last)",
            "\u001b[0;32m<ipython-input-26-a8327bf667b3>\u001b[0m in \u001b[0;36m<cell line: 1>\u001b[0;34m()\u001b[0m\n\u001b[0;32m----> 1\u001b[0;31m \u001b[0;32mfor\u001b[0m \u001b[0mbyte\u001b[0m \u001b[0;32min\u001b[0m \u001b[0mBytesread\u001b[0m\u001b[0;34m:\u001b[0m\u001b[0;34m\u001b[0m\u001b[0;34m\u001b[0m\u001b[0m\n\u001b[0m\u001b[1;32m      2\u001b[0m            \u001b[0;31m#create bit string from byte:\u001b[0m\u001b[0;34m\u001b[0m\u001b[0;34m\u001b[0m\u001b[0m\n\u001b[1;32m      3\u001b[0m            \u001b[0mbits\u001b[0m\u001b[0;34m=\u001b[0m\u001b[0mbin\u001b[0m\u001b[0;34m(\u001b[0m\u001b[0mbyte\u001b[0m\u001b[0;34m)\u001b[0m\u001b[0;34m\u001b[0m\u001b[0;34m\u001b[0m\u001b[0m\n\u001b[1;32m      4\u001b[0m            \u001b[0;31m#remove leading '0b' and fill up to 8 bits with leading zeros:\u001b[0m\u001b[0;34m\u001b[0m\u001b[0;34m\u001b[0m\u001b[0m\n\u001b[1;32m      5\u001b[0m \u001b[0mbits\u001b[0m\u001b[0;34m=\u001b[0m\u001b[0mbits\u001b[0m\u001b[0;34m[\u001b[0m\u001b[0;36m2\u001b[0m\u001b[0;34m:\u001b[0m\u001b[0;34m]\u001b[0m\u001b[0;34m.\u001b[0m\u001b[0mzfill\u001b[0m\u001b[0;34m(\u001b[0m\u001b[0;36m8\u001b[0m\u001b[0;34m)\u001b[0m\u001b[0;34m\u001b[0m\u001b[0;34m\u001b[0m\u001b[0m\n",
            "\u001b[0;31mNameError\u001b[0m: name 'Bytesread' is not defined"
          ]
        }
      ]
    },
    {
      "cell_type": "markdown",
      "source": [
        "Our data values (or quantization indices) are then translated from the pairs of 2 in the bit string:"
      ],
      "metadata": {
        "id": "eD2mr6MF4Vzt"
      }
    },
    {
      "cell_type": "code",
      "source": [
        "decodeword={'00':0,'01':1,'10':-2,'11':-1} \n",
        "\t#convert sequence of Bytes into sequence of bits: \n",
        "numdata=len(bitstring)/2; \n",
        "        #converts groups of 2 bits into data: \n",
        "data=np.zeros(numdata,dtype=int) \n",
        "n=0; \n",
        "for i in range(numdata): \n",
        "            data[n]=decodeword[bitstring[(i*2):(2+i*2)]] \n",
        "            n+=1\n"
      ],
      "metadata": {
        "colab": {
          "base_uri": "https://localhost:8080/",
          "height": 266
        },
        "id": "vrAGZ9Gi4XYO",
        "outputId": "6f375272-692d-4dc1-9409-bf16e5cb4db9"
      },
      "execution_count": null,
      "outputs": [
        {
          "output_type": "error",
          "ename": "TypeError",
          "evalue": "ignored",
          "traceback": [
            "\u001b[0;31m---------------------------------------------------------------------------\u001b[0m",
            "\u001b[0;31mTypeError\u001b[0m                                 Traceback (most recent call last)",
            "\u001b[0;32m<ipython-input-28-fac85690cc1c>\u001b[0m in \u001b[0;36m<cell line: 5>\u001b[0;34m()\u001b[0m\n\u001b[1;32m      3\u001b[0m \u001b[0mnumdata\u001b[0m\u001b[0;34m=\u001b[0m\u001b[0mlen\u001b[0m\u001b[0;34m(\u001b[0m\u001b[0mbitstring\u001b[0m\u001b[0;34m)\u001b[0m\u001b[0;34m/\u001b[0m\u001b[0;36m2\u001b[0m\u001b[0;34m;\u001b[0m\u001b[0;34m\u001b[0m\u001b[0;34m\u001b[0m\u001b[0m\n\u001b[1;32m      4\u001b[0m         \u001b[0;31m#converts groups of 2 bits into data:\u001b[0m\u001b[0;34m\u001b[0m\u001b[0;34m\u001b[0m\u001b[0m\n\u001b[0;32m----> 5\u001b[0;31m \u001b[0mdata\u001b[0m\u001b[0;34m=\u001b[0m\u001b[0mnp\u001b[0m\u001b[0;34m.\u001b[0m\u001b[0mzeros\u001b[0m\u001b[0;34m(\u001b[0m\u001b[0mnumdata\u001b[0m\u001b[0;34m,\u001b[0m\u001b[0mdtype\u001b[0m\u001b[0;34m=\u001b[0m\u001b[0mint\u001b[0m\u001b[0;34m)\u001b[0m\u001b[0;34m\u001b[0m\u001b[0;34m\u001b[0m\u001b[0m\n\u001b[0m\u001b[1;32m      6\u001b[0m \u001b[0mn\u001b[0m\u001b[0;34m=\u001b[0m\u001b[0;36m0\u001b[0m\u001b[0;34m;\u001b[0m\u001b[0;34m\u001b[0m\u001b[0;34m\u001b[0m\u001b[0m\n\u001b[1;32m      7\u001b[0m \u001b[0;32mfor\u001b[0m \u001b[0mi\u001b[0m \u001b[0;32min\u001b[0m \u001b[0mrange\u001b[0m\u001b[0;34m(\u001b[0m\u001b[0mnumdata\u001b[0m\u001b[0;34m)\u001b[0m\u001b[0;34m:\u001b[0m\u001b[0;34m\u001b[0m\u001b[0;34m\u001b[0m\u001b[0m\n",
            "\u001b[0;31mTypeError\u001b[0m: 'float' object cannot be interpreted as an integer"
          ]
        }
      ]
    },
    {
      "cell_type": "markdown",
      "source": [
        "The following functions serve as an **example** for translating a data array from our quantization indexes into strings from code words and back, *data2codestring* and *codestring2data*, in the file *writereadbits.py*. The code string can be defined using the functions *writebinaryfile* and *readbinaryfile* written to a binary file or read from it.\n",
        "\n",
        "We test these functions with:\n",
        "\n",
        "    python writereadbits.py"
      ],
      "metadata": {
        "id": "mpg4k9ES4fvY"
      }
    },
    {
      "cell_type": "markdown",
      "source": [
        "**Note**: The test routine is only activated when you call the function directly under “*if __name__ == '__main__':*” not when importing the file.\n",
        "\n",
        "**Note**: The test function shows: The functions *data2codestring* and *writebinaryfile* write a sequence of indexes with 2 bit each into the file '*savebin.bin*', and *readbinaryfile* and *codestring2data* decode the same sequence again."
      ],
      "metadata": {
        "id": "fkoWdgkX4vLU"
      }
    },
    {
      "cell_type": "markdown",
      "source": [
        "#**Example of a frame encoder and decoder in Python:**\n",
        "The following **encoder** takes the lowest 3 DCT coefficients (at the positions (0,0), (0,1), and (1,0), quantizes them with 2 bit each, and stores them in their own file.  For simplicity's sake, we define the 8x8 pixel blockwise DCT and inverse DCT as function '*dct8x8*' or '*invdct8x8*' in the file '*blockdct.py*'. The size of the frame is additionally written in a text file for the decoder. \n",
        "\n",
        "We start the encoder with\n",
        "\n",
        "    python frameencfile.py\n",
        "\n",
        "We see the live video and save a frame when we press \"*c\" (capture*), in the files *y10enc. bin, y01enc. bin, y00enc. bin, framedim. txt*.\n",
        "\n",
        "If we look at the total size of the files, we get only **3.6 kB**, an **extreme compression** for a 480x640 pixel image!"
      ],
      "metadata": {
        "id": "Qxj-tacX5CD9"
      }
    },
    {
      "cell_type": "markdown",
      "source": [
        "The corresponding **decoder** is started with:\n",
        "\n",
        "    python framedecfile.py\n",
        "\n",
        "This automatically reads the encoder's files, decodes the image and displays it. \n",
        "\n",
        "**As we can see**, it is very blocky and has only a few shades of gray, a consequence of extreme compression. But we can still see the content of the picture well."
      ],
      "metadata": {
        "id": "By6Osryu5iKU"
      }
    },
    {
      "cell_type": "markdown",
      "source": [
        "#**The Color Image Coder**\n",
        "By including the color components U and V (or Cb and Cr), our coder can be expanded to a color image encoder. Since the eye is sensitive to the color components at lower spatial frequencies than to the brightness in the luminance component Y, we limit ourselves to coding the DC coefficients (position (0,0)) of the block wise DCT of the color components U and V.\n",
        "\n",
        "The call of the encoder is most appropriate in a **subdirectory** for the resulting compressed image files:\n",
        "\n",
        "    mkdir Pic1; cd Pic1\n",
        "\n",
        "    python ../picturecolorencoder.py\n",
        "\n",
        "The decoder is then started with\n",
        "\n",
        "    python ../picturecolordecoder.p\n",
        "\n",
        "**Note**: The resulting files of the compressed color image have a total size of only about **6KB**, i. e. only about **0.16 bit/pixel** at 480x640 pixel image size!\n",
        "The resulting decoded image has clear artifacts (partly \"artistic\" in appearance), but the image content is still clearly visible. "
      ],
      "metadata": {
        "id": "5PF9pJ3y5qCL"
      }
    },
    {
      "cell_type": "markdown",
      "source": [
        "#**Python example for the different quantization of the DCT coefficients:**\n",
        "In order to use the different sensitivity of the eye for different spacial frequencies in order to improve the result, we quantize the respective DCT coefficients differently. We use the **Contrast Sensitivity Function** here only qualitatively.\n",
        "\n",
        "Reminder: In slide set 4 we saw the Contrast Sensitivity Function (CSF):"
      ],
      "metadata": {
        "id": "vZr-LwfH6DBZ"
      }
    },
    {
      "cell_type": "markdown",
      "source": [
        "![image.png](data:image/png;base64,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)"
      ],
      "metadata": {
        "id": "Do2xoYf26IO-"
      }
    },
    {
      "cell_type": "markdown",
      "source": [
        "We assume that the spatial frequency range of the DC coefficient of the DCT is already in the maximum of the CSF (according to our example above, where we found about 1 period/degrees per DCT subband and fitting to the curve for dark light). We therefore use the most accurate quantization for the DC value,  so we use the characteristic of the eye that it becomes increasingly **insensitive** to **high spatial frequencies** (fine patterns). For the coefficients with a constant sum s=k+l (for k,l: horizontal and vertical DCT subband indices)  we select the same quantization level, because they correspond to roughly to **edges of the same slope** in different directions. This results in anti-diagonals with the same quantization step-size in our quantization matrix. At the top left is DC  with **the highest accuracy (low quantization step sizes)**, down to the right, towards **high spatial frequencies**, the accuracy becomes smaller and **smaller (higher quantization step sizes)**.\n",
        "\n",
        "This will give us a more detailed quantization mask. To make it in python we use the command *np.diag*, which creates a diagonal matrix with a given offset from the main diagonal:"
      ],
      "metadata": {
        "id": "IdjAFcZk6Mkd"
      }
    },
    {
      "cell_type": "code",
      "source": [
        "B=np.diag([1,2,3]) \n",
        "B"
      ],
      "metadata": {
        "colab": {
          "base_uri": "https://localhost:8080/"
        },
        "id": "iTVMGQap6pZ6",
        "outputId": "c8cdfc3c-81da-490e-9cc3-95fbfaeb67c7"
      },
      "execution_count": null,
      "outputs": [
        {
          "output_type": "execute_result",
          "data": {
            "text/plain": [
              "array([[1, 0, 0],\n",
              "       [0, 2, 0],\n",
              "       [0, 0, 3]])"
            ]
          },
          "metadata": {},
          "execution_count": 32
        }
      ]
    },
    {
      "cell_type": "markdown",
      "source": [
        "to make it an anti-diagonal:"
      ],
      "metadata": {
        "id": "H2iA3x1j664a"
      }
    },
    {
      "cell_type": "code",
      "source": [
        "np.fliplr(B)"
      ],
      "metadata": {
        "colab": {
          "base_uri": "https://localhost:8080/"
        },
        "id": "v9kYl4xv6-IT",
        "outputId": "3580283a-968f-404a-bebb-dfdc3b76f153"
      },
      "execution_count": null,
      "outputs": [
        {
          "output_type": "execute_result",
          "data": {
            "text/plain": [
              "array([[0, 0, 1],\n",
              "       [0, 2, 0],\n",
              "       [3, 0, 0]])"
            ]
          },
          "metadata": {},
          "execution_count": 34
        }
      ]
    },
    {
      "cell_type": "markdown",
      "source": [
        "and np.tril, which generates a lower triangle matrix:"
      ],
      "metadata": {
        "id": "7AJl2XX87Eeq"
      }
    },
    {
      "cell_type": "code",
      "source": [
        "np.tril(np.ones((4,4)),1)"
      ],
      "metadata": {
        "colab": {
          "base_uri": "https://localhost:8080/"
        },
        "id": "5FFyYUvS7GKB",
        "outputId": "63ec3a48-1a26-4b70-fb57-2761cdb7948c"
      },
      "execution_count": null,
      "outputs": [
        {
          "output_type": "execute_result",
          "data": {
            "text/plain": [
              "array([[1., 1., 0., 0.],\n",
              "       [1., 1., 1., 0.],\n",
              "       [1., 1., 1., 1.],\n",
              "       [1., 1., 1., 1.]])"
            ]
          },
          "metadata": {},
          "execution_count": 35
        }
      ]
    },
    {
      "cell_type": "markdown",
      "source": [
        "This is now our quantization matrix M:"
      ],
      "metadata": {
        "id": "TnjE_ezW7IiY"
      }
    },
    {
      "cell_type": "code",
      "source": [
        "#Steps for different spatial frequencies:\n",
        "bits=4 \n",
        "quantstep1=5.0/(2**bits-1) \n",
        "bits=3 \n",
        "quantstep2=1.0/(2**bits-1) \n",
        "bits=2 \n",
        "quantstep3=0.6/(2**bits-1) \n",
        "bits=1 \n",
        "quantstep4=0.4/(2**bits-1) \n",
        "bits=0 \n",
        "quantstep5=8.0/(2**bits-0.99) #vermeide div. durch 0! \n",
        "#Zus.: 1*4 bits + 2* 3 bits + 3*2bits + 4*1 bits, 20bits fuer 64 pixel, also 0.3125 bit pro pixel! \n",
        "#Quantization steps in \"mask\", anti-diagonals have the same quantization steps: \n",
        "M=np.zeros((8,8)) \n",
        "M[0,0]=quantstep1 \n",
        "M=M+  np.fliplr(np.diag([1,1],6))*quantstep2 \n",
        "M=M+  np.fliplr(np.diag([1,1,1],5))*quantstep3 \n",
        "M=M+  np.fliplr(np.diag([1,1,1,1],4))*quantstep4 \n",
        "M=M+  np.fliplr(np.tril(np.ones((8,8)),3))*quantstep5\n",
        "print(M[0:3,0:3])"
      ],
      "metadata": {
        "colab": {
          "base_uri": "https://localhost:8080/"
        },
        "id": "z8pnsVbZ7KM8",
        "outputId": "a491f23d-2e8a-4be2-ee1d-a0c4879fcc3a"
      },
      "execution_count": null,
      "outputs": [
        {
          "output_type": "stream",
          "name": "stdout",
          "text": [
            "[[3.33333333e-01 1.42857143e-01 2.00000000e-01]\n",
            " [1.42857143e-01 2.00000000e-01 4.00000000e-01]\n",
            " [2.00000000e-01 4.00000000e-01 8.00000000e+02]]\n"
          ]
        }
      ]
    },
    {
      "cell_type": "markdown",
      "source": [
        "\n",
        "We then apply this matrix to each 8x8 DCT block. Each DCT coefficient is divided by the corresponding value in the quantization matrix M. Note that the coefficient in the upper left corner corresponds to the DC coefficient, and thus to the lowest spatial frequency. To the right and down, the corresponding spatial frequencies are getting higher and higher, so we can quantize them more and more coarsely.\n",
        "\n",
        "We get\n",
        "* 4 bit for the DC coefficient, \n",
        "* 3 bit for the following anti-diagonal, which consists of 2 coefficients, then \n",
        "* 2 bit for the following 3 coefficients on the next antidiagonal, \n",
        "* 1 bit for the next 4 coefficients, and\n",
        "* 0 bit for the rest.\n",
        "In this way we need the following number of bits per 8x8 pixel block:\n",
        "1*4 bits + 2* 3 bits + 3*2 bits + 4*1 bits=20 bits for 64 coefficients or pixels, thus **only 0.3125 bits per pixel**!"
      ],
      "metadata": {
        "id": "eZBxlCii7O4A"
      }
    },
    {
      "cell_type": "markdown",
      "source": [
        "For our frame, we only have to repeat this small 8x8 matrix-mask until it fills up the whole frame. We do this with the command np.kron. It implements the so-called Kronecker product. \n",
        "An example:\n",
        "\n",
        "\\begin{equation*}\n",
        "A = \n",
        "\\begin{bmatrix}\n",
        "1 & 1\\\\\n",
        "1 & 1\n",
        "\\end{bmatrix}\n",
        "\\end{equation*}\n",
        "and M is our matrix mask.\n",
        "\n",
        "Then apply:\n",
        "\n",
        "\\begin{equation*}\n",
        "np.kron(A,M) = \n",
        "\\begin{bmatrix}\n",
        "M & M \\\\\n",
        "M & M\n",
        "\\end{bmatrix}\n",
        "\\end{equation*}\n",
        "\n",
        "So we can easily repeat our mask up to frame size.\n",
        "In our example:"
      ],
      "metadata": {
        "id": "TYyqoZnv7WEB"
      }
    },
    {
      "cell_type": "code",
      "source": [
        "r8=r/8 \n",
        "c8=c/8 \n",
        "Mframe=np.kron(np.ones((r8,c8)),M);"
      ],
      "metadata": {
        "colab": {
          "base_uri": "https://localhost:8080/",
          "height": 232
        },
        "id": "JUs2iFeW8H47",
        "outputId": "470232bb-886f-41b3-9b70-6aea10ed4e7b"
      },
      "execution_count": null,
      "outputs": [
        {
          "output_type": "error",
          "ename": "NameError",
          "evalue": "ignored",
          "traceback": [
            "\u001b[0;31m---------------------------------------------------------------------------\u001b[0m",
            "\u001b[0;31mNameError\u001b[0m                                 Traceback (most recent call last)",
            "\u001b[0;32m<ipython-input-37-6739507fb2cc>\u001b[0m in \u001b[0;36m<cell line: 1>\u001b[0;34m()\u001b[0m\n\u001b[0;32m----> 1\u001b[0;31m \u001b[0mr8\u001b[0m\u001b[0;34m=\u001b[0m\u001b[0mr\u001b[0m\u001b[0;34m/\u001b[0m\u001b[0;36m8\u001b[0m\u001b[0;34m\u001b[0m\u001b[0;34m\u001b[0m\u001b[0m\n\u001b[0m\u001b[1;32m      2\u001b[0m \u001b[0mc8\u001b[0m\u001b[0;34m=\u001b[0m\u001b[0mc\u001b[0m\u001b[0;34m/\u001b[0m\u001b[0;36m8\u001b[0m\u001b[0;34m\u001b[0m\u001b[0;34m\u001b[0m\u001b[0m\n\u001b[1;32m      3\u001b[0m \u001b[0mMframe\u001b[0m\u001b[0;34m=\u001b[0m\u001b[0mnp\u001b[0m\u001b[0;34m.\u001b[0m\u001b[0mkron\u001b[0m\u001b[0;34m(\u001b[0m\u001b[0mnp\u001b[0m\u001b[0;34m.\u001b[0m\u001b[0mones\u001b[0m\u001b[0;34m(\u001b[0m\u001b[0;34m(\u001b[0m\u001b[0mr8\u001b[0m\u001b[0;34m,\u001b[0m\u001b[0mc8\u001b[0m\u001b[0;34m)\u001b[0m\u001b[0;34m)\u001b[0m\u001b[0;34m,\u001b[0m\u001b[0mM\u001b[0m\u001b[0;34m)\u001b[0m\u001b[0;34m;\u001b[0m\u001b[0;34m\u001b[0m\u001b[0;34m\u001b[0m\u001b[0m\n",
            "\u001b[0;31mNameError\u001b[0m: name 'r' is not defined"
          ]
        }
      ]
    },
    {
      "cell_type": "markdown",
      "source": [
        "Then we **quantize** with the element-wise matrix division:"
      ],
      "metadata": {
        "id": "2H62bIpf7y0M"
      }
    },
    {
      "cell_type": "code",
      "source": [
        "index=np.round (X/ Mframe)"
      ],
      "metadata": {
        "colab": {
          "base_uri": "https://localhost:8080/",
          "height": 198
        },
        "id": "uZea8RJF8QAj",
        "outputId": "153d0424-9e43-487a-b99b-a5524ded484c"
      },
      "execution_count": null,
      "outputs": [
        {
          "output_type": "error",
          "ename": "NameError",
          "evalue": "ignored",
          "traceback": [
            "\u001b[0;31m---------------------------------------------------------------------------\u001b[0m",
            "\u001b[0;31mNameError\u001b[0m                                 Traceback (most recent call last)",
            "\u001b[0;32m<ipython-input-38-c71a379b7799>\u001b[0m in \u001b[0;36m<cell line: 1>\u001b[0;34m()\u001b[0m\n\u001b[0;32m----> 1\u001b[0;31m \u001b[0mindex\u001b[0m\u001b[0;34m=\u001b[0m\u001b[0mnp\u001b[0m\u001b[0;34m.\u001b[0m\u001b[0mround\u001b[0m \u001b[0;34m(\u001b[0m\u001b[0mX\u001b[0m\u001b[0;34m/\u001b[0m \u001b[0mMframe\u001b[0m\u001b[0;34m)\u001b[0m\u001b[0;34m\u001b[0m\u001b[0;34m\u001b[0m\u001b[0m\n\u001b[0m",
            "\u001b[0;31mNameError\u001b[0m: name 'X' is not defined"
          ]
        }
      ]
    },
    {
      "cell_type": "markdown",
      "source": [
        "and **de-quantize** with element-wise matrix multiplication:"
      ],
      "metadata": {
        "id": "MRNiMJoT8TMc"
      }
    },
    {
      "cell_type": "code",
      "source": [
        "Xrek=indices*Mframe"
      ],
      "metadata": {
        "colab": {
          "base_uri": "https://localhost:8080/",
          "height": 198
        },
        "id": "Vyrw1DpZ8WH6",
        "outputId": "f3f5e5c7-2876-4648-c1f7-dd4a404d2ebc"
      },
      "execution_count": null,
      "outputs": [
        {
          "output_type": "error",
          "ename": "NameError",
          "evalue": "ignored",
          "traceback": [
            "\u001b[0;31m---------------------------------------------------------------------------\u001b[0m",
            "\u001b[0;31mNameError\u001b[0m                                 Traceback (most recent call last)",
            "\u001b[0;32m<ipython-input-39-c7b89ac1eae0>\u001b[0m in \u001b[0;36m<cell line: 1>\u001b[0;34m()\u001b[0m\n\u001b[0;32m----> 1\u001b[0;31m \u001b[0mXrek\u001b[0m\u001b[0;34m=\u001b[0m\u001b[0mindices\u001b[0m\u001b[0;34m*\u001b[0m\u001b[0mMframe\u001b[0m\u001b[0;34m\u001b[0m\u001b[0;34m\u001b[0m\u001b[0m\n\u001b[0m",
            "\u001b[0;31mNameError\u001b[0m: name 'indices' is not defined"
          ]
        }
      ]
    },
    {
      "cell_type": "markdown",
      "source": [
        "**Calling** the Python program:\n",
        "\n",
        "    python videorecdctblocksidctquantmask.py"
      ],
      "metadata": {
        "id": "N0aCVC7_8YtU"
      }
    },
    {
      "cell_type": "markdown",
      "source": [
        "**Note**: Despite the significantly lower bit rate of 0.3125 bits/pixel we have a significantly better quality than the examples with the same quantization height at 2 bits/pixel! But observe that we neglected the range clipping from using a fixed number of bits in this example.\n",
        "Since we have used the Contrast Sensitivity Function here only qualitatively and very roughly, we can expect **clear improvements** with more **precise application of the CSF**!"
      ],
      "metadata": {
        "id": "rtC-DPJT8fmH"
      }
    },
    {
      "cell_type": "markdown",
      "source": [
        "#**Example JPEG compression:**\n",
        "JPEG stands for \"Joint Photographic Expert Group\", which has released the JPEG standard for image compression and encoding. This format is known from digital cameras, for example. It is also based on splitting the image into 8x8 pixel blocks, then a 2D DCT of these blocks, and then a quantization of the DCT coefficients. Our quantization mask M is called \"Q\" here. For a \"Quality\" setting of 50%, JPEG uses the following quantization mask:"
      ],
      "metadata": {
        "id": "golt73l08mFQ"
      }
    },
    {
      "cell_type": "markdown",
      "source": [
        "![image.png](data:image/png;base64,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)"
      ],
      "metadata": {
        "id": "A89zJy0M8pj4"
      }
    },
    {
      "cell_type": "markdown",
      "source": [
        "**Note**: Here we also see the smallest quantization-step-size at the DCT-coefficients of the small spatial frequencies, top left, with the highest accuracy. To the lower right, towards the coefficients of the higher spatial frequencies, the quantization step sizes become larger and larger, i. e. the quantization becomes inaccurate. \n",
        "\n",
        "Note also that the number range for the quantization steps is different here, because an un-normalized image is assumed (pixels in the range 0 to 255), unlike in our example, where the image has been normalized, to pixel values in the range 0 to 1.\n",
        "(See also: http://en.wikipedia.org/wiki/JPEG)"
      ],
      "metadata": {
        "id": "ZKHYGP3d8sNG"
      }
    },
    {
      "cell_type": "markdown",
      "source": [
        "#**Python example with JPEG quantization matrix:**\n",
        "\n",
        "\n",
        "    python videorecdctblocksidctquantjpgmask.py\n",
        "\n",
        "**Note**: The quality of the reconstructed video is not much better (but somewhat, in the finer details of the picture, by including more higher spatial frequencies), but now at a bit-rate that is not exactly known. The number of bits in JPEG is variable and depends on the image, because it uses Huffman coding, with variable lengths of codewords."
      ],
      "metadata": {
        "id": "A0mjMPx_8xdJ"
      }
    },
    {
      "cell_type": "markdown",
      "source": [
        "#**Conversion into a sequence of indices or bits**\n",
        "In JPEG, after quantization of the DCT coefficients and conversion into bits, the so-called \"zigzag scan\" follows. The following figure shows an 8x8 block of DCT coefficients, with the DC coefficient at the top left:"
      ],
      "metadata": {
        "id": "zXeS9h1185UW"
      }
    },
    {
      "cell_type": "markdown",
      "source": [
        "![image.png](data:image/png;base64,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)"
      ],
      "metadata": {
        "id": "0WbHamTb89Ve"
      }
    },
    {
      "cell_type": "markdown",
      "source": [
        "Thus, the coefficients are sorted by importance or bit length, and the transmission can be stoped in one place, depending on the \"Quality\" level (see Reimers:\"DVB-Digital TV technology\")."
      ],
      "metadata": {
        "id": "hmGngRIF8__W"
      }
    },
    {
      "cell_type": "markdown",
      "source": [
        "#**JPEG Processing steps:**\n",
        "##**Encoder:**\n",
        "- Y Cr Cb Color transform\n",
        "- Subsampling of Cr, Cb (4:2:0)\n",
        "- Apply 2D-DCT to 8x8 pixel blocks on the 3 components\n",
        "-Quantization using the quantization matrix\n",
        "-Conversion of the indices from quantization to bits.\n",
        "\n",
        "##**Decoder:**\n",
        "- Conversion of the bits into indices\n",
        "- De-quantization of indices into reconstructed values\n",
        "- Inverse 2D-DCT on the 8x8 blocks of the 3 components\n",
        "- Upsampling of Cr, Cb and conversion back to RGB.\n",
        "(See also: U. Reimers:\"DVB-Digital television technology\", Springer)\n",
        "\n",
        "##**Tips for debugging**\n",
        "- Divide a program into small functional units (e. g. functions), which can be tested individually for themselves\n",
        "-Use \"print\" commands, starting from the front (where it should be correct) and back (where it migth be buggy) to the middle of a program, to narrow down in which area an error (bug) has to occur until it is found.\n"
      ],
      "metadata": {
        "id": "fnJnkXXC9DVH"
      }
    }
  ]
}